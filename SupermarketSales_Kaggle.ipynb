{
 "cells": [
  {
   "cell_type": "code",
   "execution_count": 1,
   "id": "3fbb1221",
   "metadata": {},
   "outputs": [],
   "source": [
    "# This Python 3 environment comes with many helpful analytics libraries installed\n",
    "# It is defined by the kaggle/python Docker image: https://github.com/kaggle/docker-python\n",
    "# For example, here's several helpful packages to load\n",
    "\n",
    "import numpy as np # linear algebra\n",
    "import pandas as pd # data processing, CSV file I/O (e.g. pd.read_csv)\n",
    "import seaborn as sns\n",
    "import matplotlib.pyplot as plt"
   ]
  },
  {
   "cell_type": "code",
   "execution_count": 2,
   "id": "0f06a790",
   "metadata": {},
   "outputs": [],
   "source": [
    "supermarketSales = pd.read_csv('./data/supermarket_sales - Sheet1.csv')"
   ]
  },
  {
   "cell_type": "markdown",
   "id": "40c12699",
   "metadata": {},
   "source": [
    "Supermarket Sales"
   ]
  },
  {
   "cell_type": "markdown",
   "id": "9c2ca8a4",
   "metadata": {},
   "source": [
    "En el nostre cas tenim les dades sobre les ventes realitzades en un supermercat durant 3 mesos. Aquests supermercats estan situats en 3 ciutats diferents de Birmània. "
   ]
  },
  {
   "cell_type": "code",
   "execution_count": 3,
   "id": "0f0c59b6",
   "metadata": {},
   "outputs": [
    {
     "data": {
      "text/html": [
       "<div>\n",
       "<style scoped>\n",
       "    .dataframe tbody tr th:only-of-type {\n",
       "        vertical-align: middle;\n",
       "    }\n",
       "\n",
       "    .dataframe tbody tr th {\n",
       "        vertical-align: top;\n",
       "    }\n",
       "\n",
       "    .dataframe thead th {\n",
       "        text-align: right;\n",
       "    }\n",
       "</style>\n",
       "<table border=\"1\" class=\"dataframe\">\n",
       "  <thead>\n",
       "    <tr style=\"text-align: right;\">\n",
       "      <th></th>\n",
       "      <th>Invoice ID</th>\n",
       "      <th>Branch</th>\n",
       "      <th>City</th>\n",
       "      <th>Customer type</th>\n",
       "      <th>Gender</th>\n",
       "      <th>Product line</th>\n",
       "      <th>Unit price</th>\n",
       "      <th>Quantity</th>\n",
       "      <th>Tax 5%</th>\n",
       "      <th>Total</th>\n",
       "      <th>Date</th>\n",
       "      <th>Time</th>\n",
       "      <th>Payment</th>\n",
       "      <th>cogs</th>\n",
       "      <th>gross margin percentage</th>\n",
       "      <th>gross income</th>\n",
       "      <th>Rating</th>\n",
       "    </tr>\n",
       "  </thead>\n",
       "  <tbody>\n",
       "    <tr>\n",
       "      <th>0</th>\n",
       "      <td>750-67-8428</td>\n",
       "      <td>A</td>\n",
       "      <td>Yangon</td>\n",
       "      <td>Member</td>\n",
       "      <td>Female</td>\n",
       "      <td>Health and beauty</td>\n",
       "      <td>74.69</td>\n",
       "      <td>7</td>\n",
       "      <td>26.1415</td>\n",
       "      <td>548.9715</td>\n",
       "      <td>1/5/2019</td>\n",
       "      <td>13:08</td>\n",
       "      <td>Ewallet</td>\n",
       "      <td>522.83</td>\n",
       "      <td>4.761905</td>\n",
       "      <td>26.1415</td>\n",
       "      <td>9.1</td>\n",
       "    </tr>\n",
       "    <tr>\n",
       "      <th>1</th>\n",
       "      <td>226-31-3081</td>\n",
       "      <td>C</td>\n",
       "      <td>Naypyitaw</td>\n",
       "      <td>Normal</td>\n",
       "      <td>Female</td>\n",
       "      <td>Electronic accessories</td>\n",
       "      <td>15.28</td>\n",
       "      <td>5</td>\n",
       "      <td>3.8200</td>\n",
       "      <td>80.2200</td>\n",
       "      <td>3/8/2019</td>\n",
       "      <td>10:29</td>\n",
       "      <td>Cash</td>\n",
       "      <td>76.40</td>\n",
       "      <td>4.761905</td>\n",
       "      <td>3.8200</td>\n",
       "      <td>9.6</td>\n",
       "    </tr>\n",
       "    <tr>\n",
       "      <th>2</th>\n",
       "      <td>631-41-3108</td>\n",
       "      <td>A</td>\n",
       "      <td>Yangon</td>\n",
       "      <td>Normal</td>\n",
       "      <td>Male</td>\n",
       "      <td>Home and lifestyle</td>\n",
       "      <td>46.33</td>\n",
       "      <td>7</td>\n",
       "      <td>16.2155</td>\n",
       "      <td>340.5255</td>\n",
       "      <td>3/3/2019</td>\n",
       "      <td>13:23</td>\n",
       "      <td>Credit card</td>\n",
       "      <td>324.31</td>\n",
       "      <td>4.761905</td>\n",
       "      <td>16.2155</td>\n",
       "      <td>7.4</td>\n",
       "    </tr>\n",
       "    <tr>\n",
       "      <th>3</th>\n",
       "      <td>123-19-1176</td>\n",
       "      <td>A</td>\n",
       "      <td>Yangon</td>\n",
       "      <td>Member</td>\n",
       "      <td>Male</td>\n",
       "      <td>Health and beauty</td>\n",
       "      <td>58.22</td>\n",
       "      <td>8</td>\n",
       "      <td>23.2880</td>\n",
       "      <td>489.0480</td>\n",
       "      <td>1/27/2019</td>\n",
       "      <td>20:33</td>\n",
       "      <td>Ewallet</td>\n",
       "      <td>465.76</td>\n",
       "      <td>4.761905</td>\n",
       "      <td>23.2880</td>\n",
       "      <td>8.4</td>\n",
       "    </tr>\n",
       "    <tr>\n",
       "      <th>4</th>\n",
       "      <td>373-73-7910</td>\n",
       "      <td>A</td>\n",
       "      <td>Yangon</td>\n",
       "      <td>Normal</td>\n",
       "      <td>Male</td>\n",
       "      <td>Sports and travel</td>\n",
       "      <td>86.31</td>\n",
       "      <td>7</td>\n",
       "      <td>30.2085</td>\n",
       "      <td>634.3785</td>\n",
       "      <td>2/8/2019</td>\n",
       "      <td>10:37</td>\n",
       "      <td>Ewallet</td>\n",
       "      <td>604.17</td>\n",
       "      <td>4.761905</td>\n",
       "      <td>30.2085</td>\n",
       "      <td>5.3</td>\n",
       "    </tr>\n",
       "  </tbody>\n",
       "</table>\n",
       "</div>"
      ],
      "text/plain": [
       "    Invoice ID Branch       City Customer type  Gender  \\\n",
       "0  750-67-8428      A     Yangon        Member  Female   \n",
       "1  226-31-3081      C  Naypyitaw        Normal  Female   \n",
       "2  631-41-3108      A     Yangon        Normal    Male   \n",
       "3  123-19-1176      A     Yangon        Member    Male   \n",
       "4  373-73-7910      A     Yangon        Normal    Male   \n",
       "\n",
       "             Product line  Unit price  Quantity   Tax 5%     Total       Date  \\\n",
       "0       Health and beauty       74.69         7  26.1415  548.9715   1/5/2019   \n",
       "1  Electronic accessories       15.28         5   3.8200   80.2200   3/8/2019   \n",
       "2      Home and lifestyle       46.33         7  16.2155  340.5255   3/3/2019   \n",
       "3       Health and beauty       58.22         8  23.2880  489.0480  1/27/2019   \n",
       "4       Sports and travel       86.31         7  30.2085  634.3785   2/8/2019   \n",
       "\n",
       "    Time      Payment    cogs  gross margin percentage  gross income  Rating  \n",
       "0  13:08      Ewallet  522.83                 4.761905       26.1415     9.1  \n",
       "1  10:29         Cash   76.40                 4.761905        3.8200     9.6  \n",
       "2  13:23  Credit card  324.31                 4.761905       16.2155     7.4  \n",
       "3  20:33      Ewallet  465.76                 4.761905       23.2880     8.4  \n",
       "4  10:37      Ewallet  604.17                 4.761905       30.2085     5.3  "
      ]
     },
     "execution_count": 3,
     "metadata": {},
     "output_type": "execute_result"
    }
   ],
   "source": [
    "#cogs = factura\n",
    "#gross margin percentage = marge brut (ingressos - cost/ingressos)\n",
    "##ingressos que ha sobrat a una empresa després de pagar totes les despeses \n",
    "##directes relacionades amb la fabricació d'un producte o la prestació d'un servei.\n",
    "#gross income = ingressos bruts\n",
    "\n",
    "supermarketSales.head()"
   ]
  },
  {
   "cell_type": "markdown",
   "id": "6d8b15f3",
   "metadata": {},
   "source": [
    "En el dataset obtenim els següents camps :\n",
    "- Invoice ID: és un identificador d’una compra realitzada.\n",
    "- Branch: és una de les 3 branques del supermercat.\n",
    "- City: és una de les 3 ciutats situades a Birmània\n",
    "- Customer type: és un dels tipus de clients\n",
    "- Gender: genere del comprador\n",
    "- Product line: Linia del producte comprat\n",
    "- Unit price: preu per unitat mitjà\n",
    "- Quantity: quantitat de productes comprats\n",
    "- Tax 5%: quantitat en Kyat de Myanmar (moneda de Myanmar (Birmània) dels impostos pagats\n",
    "- Total: quantitat en Kyat de Myanmar (moneda de Myanmar (Birmània) dels impostos pagats\n",
    "- Date: data realizada de la compra\n",
    "- Time: hora de la compra realitzada\n",
    "- Payment: mitjà realitzat per fer la compra\n",
    "- Cogs: Cost dels bens venuts \n",
    "- Gross margin percentage: Percentatge de marge brut\n",
    "- Gross income: Ingressos bruts del supermercat\n",
    "- Rating: Valoració de la venta"
   ]
  },
  {
   "cell_type": "code",
   "execution_count": 4,
   "id": "7bca9a22",
   "metadata": {},
   "outputs": [
    {
     "name": "stdout",
     "output_type": "stream",
     "text": [
      "<class 'pandas.core.frame.DataFrame'>\n",
      "RangeIndex: 1000 entries, 0 to 999\n",
      "Data columns (total 17 columns):\n",
      " #   Column                   Non-Null Count  Dtype  \n",
      "---  ------                   --------------  -----  \n",
      " 0   Invoice ID               1000 non-null   object \n",
      " 1   Branch                   1000 non-null   object \n",
      " 2   City                     1000 non-null   object \n",
      " 3   Customer type            1000 non-null   object \n",
      " 4   Gender                   1000 non-null   object \n",
      " 5   Product line             1000 non-null   object \n",
      " 6   Unit price               1000 non-null   float64\n",
      " 7   Quantity                 1000 non-null   int64  \n",
      " 8   Tax 5%                   1000 non-null   float64\n",
      " 9   Total                    1000 non-null   float64\n",
      " 10  Date                     1000 non-null   object \n",
      " 11  Time                     1000 non-null   object \n",
      " 12  Payment                  1000 non-null   object \n",
      " 13  cogs                     1000 non-null   float64\n",
      " 14  gross margin percentage  1000 non-null   float64\n",
      " 15  gross income             1000 non-null   float64\n",
      " 16  Rating                   1000 non-null   float64\n",
      "dtypes: float64(7), int64(1), object(9)\n",
      "memory usage: 132.9+ KB\n"
     ]
    }
   ],
   "source": [
    "supermarketSales.info()"
   ]
  },
  {
   "cell_type": "markdown",
   "id": "fb8f9a41",
   "metadata": {},
   "source": [
    "He observat la informació de cadascun dels camps i podem veure com sobretot tenim objectes i valors decimals.\n"
   ]
  },
  {
   "cell_type": "markdown",
   "id": "052efebd",
   "metadata": {},
   "source": [
    "Tenim fins a 17 camps diferents."
   ]
  },
  {
   "cell_type": "code",
   "execution_count": 5,
   "id": "409ec362",
   "metadata": {},
   "outputs": [
    {
     "data": {
      "text/plain": [
       "(1000, 17)"
      ]
     },
     "execution_count": 5,
     "metadata": {},
     "output_type": "execute_result"
    }
   ],
   "source": [
    "supermarketSales.shape"
   ]
  },
  {
   "cell_type": "markdown",
   "id": "aca8becd",
   "metadata": {},
   "source": [
    "Busco que no tingui valors nulls, o incorrectes."
   ]
  },
  {
   "cell_type": "code",
   "execution_count": 6,
   "id": "75782fc3",
   "metadata": {},
   "outputs": [
    {
     "data": {
      "text/plain": [
       "Invoice ID                 0\n",
       "Branch                     0\n",
       "City                       0\n",
       "Customer type              0\n",
       "Gender                     0\n",
       "Product line               0\n",
       "Unit price                 0\n",
       "Quantity                   0\n",
       "Tax 5%                     0\n",
       "Total                      0\n",
       "Date                       0\n",
       "Time                       0\n",
       "Payment                    0\n",
       "cogs                       0\n",
       "gross margin percentage    0\n",
       "gross income               0\n",
       "Rating                     0\n",
       "dtype: int64"
      ]
     },
     "execution_count": 6,
     "metadata": {},
     "output_type": "execute_result"
    }
   ],
   "source": [
    "supermarketSales.isnull().sum() #to check null values"
   ]
  },
  {
   "cell_type": "markdown",
   "id": "864cc969",
   "metadata": {},
   "source": [
    "Tots els valors son complets i per tant no haig de realitzar cap tipus de inserció o eliminació de cap fila."
   ]
  },
  {
   "cell_type": "markdown",
   "id": "3cbd0524",
   "metadata": {},
   "source": [
    "Com he observat prèviament, hi ha molts camps que son tipus objecte. \n",
    "Els total de objectes categorics son el 52%, és a dir la meitat de camps del meu dataset corresponen a valors categòrics.\n"
   ]
  },
  {
   "cell_type": "code",
   "execution_count": 7,
   "id": "1a2cf8f9",
   "metadata": {},
   "outputs": [
    {
     "name": "stdout",
     "output_type": "stream",
     "text": [
      "17\n",
      "9\n",
      "52.94\n"
     ]
    }
   ],
   "source": [
    "categorical_columns = [cname for cname in supermarketSales.columns if supermarketSales[cname].dtype == \"object\"]\n",
    "print(len(supermarketSales.columns))\n",
    "print((len(categorical_columns))) \n",
    "\n",
    "print(round((len(categorical_columns)/(len(supermarketSales.columns)) * 100),2))"
   ]
  },
  {
   "cell_type": "markdown",
   "id": "6818f41c",
   "metadata": {},
   "source": [
    "El camp Date correspon a un tipus objecte, cambiaré el seu tipus a datetime per poder-lo descomposar més endavant a Dia, Mes i Any.\n",
    "D'aquesta forma tindre els valors repartits i podré veure si tenen alguna correl·ació o rellevància. "
   ]
  },
  {
   "cell_type": "code",
   "execution_count": 8,
   "id": "3e6284c4",
   "metadata": {},
   "outputs": [
    {
     "data": {
      "text/plain": [
       "0   2019-01-05\n",
       "1   2019-03-08\n",
       "2   2019-03-03\n",
       "3   2019-01-27\n",
       "4   2019-02-08\n",
       "Name: Date, dtype: datetime64[ns]"
      ]
     },
     "execution_count": 8,
     "metadata": {},
     "output_type": "execute_result"
    }
   ],
   "source": [
    "#convert Date object to type date\n",
    "supermarketSales['Date'] = pd.to_datetime(supermarketSales['Date'])\n",
    "supermarketSales['Date'].head()"
   ]
  },
  {
   "cell_type": "markdown",
   "id": "57bcec5a",
   "metadata": {},
   "source": [
    "Primer, miro si corresponen a anys diferents com diu la descripció del dataset."
   ]
  },
  {
   "cell_type": "code",
   "execution_count": 9,
   "id": "4d48d9ff",
   "metadata": {},
   "outputs": [
    {
     "data": {
      "text/plain": [
       "1"
      ]
     },
     "execution_count": 9,
     "metadata": {},
     "output_type": "execute_result"
    }
   ],
   "source": [
    "supermarketSales['Year'] = (supermarketSales['Date']).dt.year\n",
    "supermarketSales['Year'].nunique() #only one year data\n"
   ]
  },
  {
   "cell_type": "code",
   "execution_count": 10,
   "id": "43f8775e",
   "metadata": {},
   "outputs": [
    {
     "data": {
      "text/plain": [
       "array([2019], dtype=int64)"
      ]
     },
     "execution_count": 10,
     "metadata": {},
     "output_type": "execute_result"
    }
   ],
   "source": [
    "supermarketSales['Year'].unique() #2019"
   ]
  },
  {
   "cell_type": "code",
   "execution_count": 11,
   "id": "ae276beb",
   "metadata": {},
   "outputs": [
    {
     "data": {
      "text/html": [
       "<div>\n",
       "<style scoped>\n",
       "    .dataframe tbody tr th:only-of-type {\n",
       "        vertical-align: middle;\n",
       "    }\n",
       "\n",
       "    .dataframe tbody tr th {\n",
       "        vertical-align: top;\n",
       "    }\n",
       "\n",
       "    .dataframe thead th {\n",
       "        text-align: right;\n",
       "    }\n",
       "</style>\n",
       "<table border=\"1\" class=\"dataframe\">\n",
       "  <thead>\n",
       "    <tr style=\"text-align: right;\">\n",
       "      <th></th>\n",
       "      <th>Invoice ID</th>\n",
       "      <th>Branch</th>\n",
       "      <th>City</th>\n",
       "      <th>Customer type</th>\n",
       "      <th>Gender</th>\n",
       "      <th>Product line</th>\n",
       "      <th>Unit price</th>\n",
       "      <th>Quantity</th>\n",
       "      <th>Tax 5%</th>\n",
       "      <th>Total</th>\n",
       "      <th>Date</th>\n",
       "      <th>Time</th>\n",
       "      <th>Payment</th>\n",
       "      <th>cogs</th>\n",
       "      <th>gross margin percentage</th>\n",
       "      <th>gross income</th>\n",
       "      <th>Rating</th>\n",
       "    </tr>\n",
       "  </thead>\n",
       "  <tbody>\n",
       "    <tr>\n",
       "      <th>0</th>\n",
       "      <td>750-67-8428</td>\n",
       "      <td>A</td>\n",
       "      <td>Yangon</td>\n",
       "      <td>Member</td>\n",
       "      <td>Female</td>\n",
       "      <td>Health and beauty</td>\n",
       "      <td>74.69</td>\n",
       "      <td>7</td>\n",
       "      <td>26.1415</td>\n",
       "      <td>548.9715</td>\n",
       "      <td>2019-01-05</td>\n",
       "      <td>13:08</td>\n",
       "      <td>Ewallet</td>\n",
       "      <td>522.83</td>\n",
       "      <td>4.761905</td>\n",
       "      <td>26.1415</td>\n",
       "      <td>9.1</td>\n",
       "    </tr>\n",
       "    <tr>\n",
       "      <th>1</th>\n",
       "      <td>226-31-3081</td>\n",
       "      <td>C</td>\n",
       "      <td>Naypyitaw</td>\n",
       "      <td>Normal</td>\n",
       "      <td>Female</td>\n",
       "      <td>Electronic accessories</td>\n",
       "      <td>15.28</td>\n",
       "      <td>5</td>\n",
       "      <td>3.8200</td>\n",
       "      <td>80.2200</td>\n",
       "      <td>2019-03-08</td>\n",
       "      <td>10:29</td>\n",
       "      <td>Cash</td>\n",
       "      <td>76.40</td>\n",
       "      <td>4.761905</td>\n",
       "      <td>3.8200</td>\n",
       "      <td>9.6</td>\n",
       "    </tr>\n",
       "    <tr>\n",
       "      <th>2</th>\n",
       "      <td>631-41-3108</td>\n",
       "      <td>A</td>\n",
       "      <td>Yangon</td>\n",
       "      <td>Normal</td>\n",
       "      <td>Male</td>\n",
       "      <td>Home and lifestyle</td>\n",
       "      <td>46.33</td>\n",
       "      <td>7</td>\n",
       "      <td>16.2155</td>\n",
       "      <td>340.5255</td>\n",
       "      <td>2019-03-03</td>\n",
       "      <td>13:23</td>\n",
       "      <td>Credit card</td>\n",
       "      <td>324.31</td>\n",
       "      <td>4.761905</td>\n",
       "      <td>16.2155</td>\n",
       "      <td>7.4</td>\n",
       "    </tr>\n",
       "    <tr>\n",
       "      <th>3</th>\n",
       "      <td>123-19-1176</td>\n",
       "      <td>A</td>\n",
       "      <td>Yangon</td>\n",
       "      <td>Member</td>\n",
       "      <td>Male</td>\n",
       "      <td>Health and beauty</td>\n",
       "      <td>58.22</td>\n",
       "      <td>8</td>\n",
       "      <td>23.2880</td>\n",
       "      <td>489.0480</td>\n",
       "      <td>2019-01-27</td>\n",
       "      <td>20:33</td>\n",
       "      <td>Ewallet</td>\n",
       "      <td>465.76</td>\n",
       "      <td>4.761905</td>\n",
       "      <td>23.2880</td>\n",
       "      <td>8.4</td>\n",
       "    </tr>\n",
       "    <tr>\n",
       "      <th>4</th>\n",
       "      <td>373-73-7910</td>\n",
       "      <td>A</td>\n",
       "      <td>Yangon</td>\n",
       "      <td>Normal</td>\n",
       "      <td>Male</td>\n",
       "      <td>Sports and travel</td>\n",
       "      <td>86.31</td>\n",
       "      <td>7</td>\n",
       "      <td>30.2085</td>\n",
       "      <td>634.3785</td>\n",
       "      <td>2019-02-08</td>\n",
       "      <td>10:37</td>\n",
       "      <td>Ewallet</td>\n",
       "      <td>604.17</td>\n",
       "      <td>4.761905</td>\n",
       "      <td>30.2085</td>\n",
       "      <td>5.3</td>\n",
       "    </tr>\n",
       "    <tr>\n",
       "      <th>...</th>\n",
       "      <td>...</td>\n",
       "      <td>...</td>\n",
       "      <td>...</td>\n",
       "      <td>...</td>\n",
       "      <td>...</td>\n",
       "      <td>...</td>\n",
       "      <td>...</td>\n",
       "      <td>...</td>\n",
       "      <td>...</td>\n",
       "      <td>...</td>\n",
       "      <td>...</td>\n",
       "      <td>...</td>\n",
       "      <td>...</td>\n",
       "      <td>...</td>\n",
       "      <td>...</td>\n",
       "      <td>...</td>\n",
       "      <td>...</td>\n",
       "    </tr>\n",
       "    <tr>\n",
       "      <th>995</th>\n",
       "      <td>233-67-5758</td>\n",
       "      <td>C</td>\n",
       "      <td>Naypyitaw</td>\n",
       "      <td>Normal</td>\n",
       "      <td>Male</td>\n",
       "      <td>Health and beauty</td>\n",
       "      <td>40.35</td>\n",
       "      <td>1</td>\n",
       "      <td>2.0175</td>\n",
       "      <td>42.3675</td>\n",
       "      <td>2019-01-29</td>\n",
       "      <td>13:46</td>\n",
       "      <td>Ewallet</td>\n",
       "      <td>40.35</td>\n",
       "      <td>4.761905</td>\n",
       "      <td>2.0175</td>\n",
       "      <td>6.2</td>\n",
       "    </tr>\n",
       "    <tr>\n",
       "      <th>996</th>\n",
       "      <td>303-96-2227</td>\n",
       "      <td>B</td>\n",
       "      <td>Mandalay</td>\n",
       "      <td>Normal</td>\n",
       "      <td>Female</td>\n",
       "      <td>Home and lifestyle</td>\n",
       "      <td>97.38</td>\n",
       "      <td>10</td>\n",
       "      <td>48.6900</td>\n",
       "      <td>1022.4900</td>\n",
       "      <td>2019-03-02</td>\n",
       "      <td>17:16</td>\n",
       "      <td>Ewallet</td>\n",
       "      <td>973.80</td>\n",
       "      <td>4.761905</td>\n",
       "      <td>48.6900</td>\n",
       "      <td>4.4</td>\n",
       "    </tr>\n",
       "    <tr>\n",
       "      <th>997</th>\n",
       "      <td>727-02-1313</td>\n",
       "      <td>A</td>\n",
       "      <td>Yangon</td>\n",
       "      <td>Member</td>\n",
       "      <td>Male</td>\n",
       "      <td>Food and beverages</td>\n",
       "      <td>31.84</td>\n",
       "      <td>1</td>\n",
       "      <td>1.5920</td>\n",
       "      <td>33.4320</td>\n",
       "      <td>2019-02-09</td>\n",
       "      <td>13:22</td>\n",
       "      <td>Cash</td>\n",
       "      <td>31.84</td>\n",
       "      <td>4.761905</td>\n",
       "      <td>1.5920</td>\n",
       "      <td>7.7</td>\n",
       "    </tr>\n",
       "    <tr>\n",
       "      <th>998</th>\n",
       "      <td>347-56-2442</td>\n",
       "      <td>A</td>\n",
       "      <td>Yangon</td>\n",
       "      <td>Normal</td>\n",
       "      <td>Male</td>\n",
       "      <td>Home and lifestyle</td>\n",
       "      <td>65.82</td>\n",
       "      <td>1</td>\n",
       "      <td>3.2910</td>\n",
       "      <td>69.1110</td>\n",
       "      <td>2019-02-22</td>\n",
       "      <td>15:33</td>\n",
       "      <td>Cash</td>\n",
       "      <td>65.82</td>\n",
       "      <td>4.761905</td>\n",
       "      <td>3.2910</td>\n",
       "      <td>4.1</td>\n",
       "    </tr>\n",
       "    <tr>\n",
       "      <th>999</th>\n",
       "      <td>849-09-3807</td>\n",
       "      <td>A</td>\n",
       "      <td>Yangon</td>\n",
       "      <td>Member</td>\n",
       "      <td>Female</td>\n",
       "      <td>Fashion accessories</td>\n",
       "      <td>88.34</td>\n",
       "      <td>7</td>\n",
       "      <td>30.9190</td>\n",
       "      <td>649.2990</td>\n",
       "      <td>2019-02-18</td>\n",
       "      <td>13:28</td>\n",
       "      <td>Cash</td>\n",
       "      <td>618.38</td>\n",
       "      <td>4.761905</td>\n",
       "      <td>30.9190</td>\n",
       "      <td>6.6</td>\n",
       "    </tr>\n",
       "  </tbody>\n",
       "</table>\n",
       "<p>1000 rows × 17 columns</p>\n",
       "</div>"
      ],
      "text/plain": [
       "      Invoice ID Branch       City Customer type  Gender  \\\n",
       "0    750-67-8428      A     Yangon        Member  Female   \n",
       "1    226-31-3081      C  Naypyitaw        Normal  Female   \n",
       "2    631-41-3108      A     Yangon        Normal    Male   \n",
       "3    123-19-1176      A     Yangon        Member    Male   \n",
       "4    373-73-7910      A     Yangon        Normal    Male   \n",
       "..           ...    ...        ...           ...     ...   \n",
       "995  233-67-5758      C  Naypyitaw        Normal    Male   \n",
       "996  303-96-2227      B   Mandalay        Normal  Female   \n",
       "997  727-02-1313      A     Yangon        Member    Male   \n",
       "998  347-56-2442      A     Yangon        Normal    Male   \n",
       "999  849-09-3807      A     Yangon        Member  Female   \n",
       "\n",
       "               Product line  Unit price  Quantity   Tax 5%      Total  \\\n",
       "0         Health and beauty       74.69         7  26.1415   548.9715   \n",
       "1    Electronic accessories       15.28         5   3.8200    80.2200   \n",
       "2        Home and lifestyle       46.33         7  16.2155   340.5255   \n",
       "3         Health and beauty       58.22         8  23.2880   489.0480   \n",
       "4         Sports and travel       86.31         7  30.2085   634.3785   \n",
       "..                      ...         ...       ...      ...        ...   \n",
       "995       Health and beauty       40.35         1   2.0175    42.3675   \n",
       "996      Home and lifestyle       97.38        10  48.6900  1022.4900   \n",
       "997      Food and beverages       31.84         1   1.5920    33.4320   \n",
       "998      Home and lifestyle       65.82         1   3.2910    69.1110   \n",
       "999     Fashion accessories       88.34         7  30.9190   649.2990   \n",
       "\n",
       "          Date   Time      Payment    cogs  gross margin percentage  \\\n",
       "0   2019-01-05  13:08      Ewallet  522.83                 4.761905   \n",
       "1   2019-03-08  10:29         Cash   76.40                 4.761905   \n",
       "2   2019-03-03  13:23  Credit card  324.31                 4.761905   \n",
       "3   2019-01-27  20:33      Ewallet  465.76                 4.761905   \n",
       "4   2019-02-08  10:37      Ewallet  604.17                 4.761905   \n",
       "..         ...    ...          ...     ...                      ...   \n",
       "995 2019-01-29  13:46      Ewallet   40.35                 4.761905   \n",
       "996 2019-03-02  17:16      Ewallet  973.80                 4.761905   \n",
       "997 2019-02-09  13:22         Cash   31.84                 4.761905   \n",
       "998 2019-02-22  15:33         Cash   65.82                 4.761905   \n",
       "999 2019-02-18  13:28         Cash  618.38                 4.761905   \n",
       "\n",
       "     gross income  Rating  \n",
       "0         26.1415     9.1  \n",
       "1          3.8200     9.6  \n",
       "2         16.2155     7.4  \n",
       "3         23.2880     8.4  \n",
       "4         30.2085     5.3  \n",
       "..            ...     ...  \n",
       "995        2.0175     6.2  \n",
       "996       48.6900     4.4  \n",
       "997        1.5920     7.7  \n",
       "998        3.2910     4.1  \n",
       "999       30.9190     6.6  \n",
       "\n",
       "[1000 rows x 17 columns]"
      ]
     },
     "execution_count": 11,
     "metadata": {},
     "output_type": "execute_result"
    }
   ],
   "source": [
    "supermarketSales.drop('Year', axis=1)"
   ]
  },
  {
   "cell_type": "code",
   "execution_count": 12,
   "id": "70f9be06",
   "metadata": {},
   "outputs": [],
   "source": [
    "supermarketSales['Month'] = (supermarketSales['Date']).dt.month\n",
    "supermarketSales['Day'] = (supermarketSales['Date']).dt.day\n",
    "supermarketSales.drop('Date', axis=1, inplace=True)\n"
   ]
  },
  {
   "cell_type": "code",
   "execution_count": 13,
   "id": "12af4188",
   "metadata": {},
   "outputs": [
    {
     "name": "stdout",
     "output_type": "stream",
     "text": [
      "3\n"
     ]
    }
   ],
   "source": [
    "print(supermarketSales['Month'].nunique())\n"
   ]
  },
  {
   "cell_type": "markdown",
   "id": "5afb3fc8",
   "metadata": {},
   "source": [
    "Podem observar com només son valors de l'any 2019, així que els valors son correctes. \n",
    "A continuació descomponc el camp Date en Dia, Mes.\n",
    "L'any te un valor únic de 2019, per tant no m'aporta res guardar-lo al dataset i no l'introduiré.\n",
    "Finalment elimino Date del dataset per no tenir valors repetits i netejar el dataset.\n",
    "Els mesos també son només de 3 mesos diferents, per tant es corresponen a la descripció. \n",
    "El mantindre al dataset per observar si realment tenen alguna relaicó amb els altres camps."
   ]
  },
  {
   "cell_type": "code",
   "execution_count": 14,
   "id": "db1088db",
   "metadata": {},
   "outputs": [
    {
     "data": {
      "text/html": [
       "<div>\n",
       "<style scoped>\n",
       "    .dataframe tbody tr th:only-of-type {\n",
       "        vertical-align: middle;\n",
       "    }\n",
       "\n",
       "    .dataframe tbody tr th {\n",
       "        vertical-align: top;\n",
       "    }\n",
       "\n",
       "    .dataframe thead th {\n",
       "        text-align: right;\n",
       "    }\n",
       "</style>\n",
       "<table border=\"1\" class=\"dataframe\">\n",
       "  <thead>\n",
       "    <tr style=\"text-align: right;\">\n",
       "      <th></th>\n",
       "      <th>Unit price</th>\n",
       "      <th>Quantity</th>\n",
       "      <th>Tax 5%</th>\n",
       "      <th>Total</th>\n",
       "      <th>cogs</th>\n",
       "      <th>gross margin percentage</th>\n",
       "      <th>gross income</th>\n",
       "      <th>Rating</th>\n",
       "      <th>Year</th>\n",
       "      <th>Month</th>\n",
       "      <th>Day</th>\n",
       "    </tr>\n",
       "  </thead>\n",
       "  <tbody>\n",
       "    <tr>\n",
       "      <th>count</th>\n",
       "      <td>1000.000000</td>\n",
       "      <td>1000.000000</td>\n",
       "      <td>1000.000000</td>\n",
       "      <td>1000.000000</td>\n",
       "      <td>1000.00000</td>\n",
       "      <td>1.000000e+03</td>\n",
       "      <td>1000.000000</td>\n",
       "      <td>1000.00000</td>\n",
       "      <td>1000.0</td>\n",
       "      <td>1000.000000</td>\n",
       "      <td>1000.000000</td>\n",
       "    </tr>\n",
       "    <tr>\n",
       "      <th>mean</th>\n",
       "      <td>55.672130</td>\n",
       "      <td>5.510000</td>\n",
       "      <td>15.379369</td>\n",
       "      <td>322.966749</td>\n",
       "      <td>307.58738</td>\n",
       "      <td>4.761905e+00</td>\n",
       "      <td>15.379369</td>\n",
       "      <td>6.97270</td>\n",
       "      <td>2019.0</td>\n",
       "      <td>1.993000</td>\n",
       "      <td>15.256000</td>\n",
       "    </tr>\n",
       "    <tr>\n",
       "      <th>std</th>\n",
       "      <td>26.494628</td>\n",
       "      <td>2.923431</td>\n",
       "      <td>11.708825</td>\n",
       "      <td>245.885335</td>\n",
       "      <td>234.17651</td>\n",
       "      <td>6.131498e-14</td>\n",
       "      <td>11.708825</td>\n",
       "      <td>1.71858</td>\n",
       "      <td>0.0</td>\n",
       "      <td>0.835254</td>\n",
       "      <td>8.693563</td>\n",
       "    </tr>\n",
       "    <tr>\n",
       "      <th>min</th>\n",
       "      <td>10.080000</td>\n",
       "      <td>1.000000</td>\n",
       "      <td>0.508500</td>\n",
       "      <td>10.678500</td>\n",
       "      <td>10.17000</td>\n",
       "      <td>4.761905e+00</td>\n",
       "      <td>0.508500</td>\n",
       "      <td>4.00000</td>\n",
       "      <td>2019.0</td>\n",
       "      <td>1.000000</td>\n",
       "      <td>1.000000</td>\n",
       "    </tr>\n",
       "    <tr>\n",
       "      <th>25%</th>\n",
       "      <td>32.875000</td>\n",
       "      <td>3.000000</td>\n",
       "      <td>5.924875</td>\n",
       "      <td>124.422375</td>\n",
       "      <td>118.49750</td>\n",
       "      <td>4.761905e+00</td>\n",
       "      <td>5.924875</td>\n",
       "      <td>5.50000</td>\n",
       "      <td>2019.0</td>\n",
       "      <td>1.000000</td>\n",
       "      <td>8.000000</td>\n",
       "    </tr>\n",
       "    <tr>\n",
       "      <th>50%</th>\n",
       "      <td>55.230000</td>\n",
       "      <td>5.000000</td>\n",
       "      <td>12.088000</td>\n",
       "      <td>253.848000</td>\n",
       "      <td>241.76000</td>\n",
       "      <td>4.761905e+00</td>\n",
       "      <td>12.088000</td>\n",
       "      <td>7.00000</td>\n",
       "      <td>2019.0</td>\n",
       "      <td>2.000000</td>\n",
       "      <td>15.000000</td>\n",
       "    </tr>\n",
       "    <tr>\n",
       "      <th>75%</th>\n",
       "      <td>77.935000</td>\n",
       "      <td>8.000000</td>\n",
       "      <td>22.445250</td>\n",
       "      <td>471.350250</td>\n",
       "      <td>448.90500</td>\n",
       "      <td>4.761905e+00</td>\n",
       "      <td>22.445250</td>\n",
       "      <td>8.50000</td>\n",
       "      <td>2019.0</td>\n",
       "      <td>3.000000</td>\n",
       "      <td>23.000000</td>\n",
       "    </tr>\n",
       "    <tr>\n",
       "      <th>max</th>\n",
       "      <td>99.960000</td>\n",
       "      <td>10.000000</td>\n",
       "      <td>49.650000</td>\n",
       "      <td>1042.650000</td>\n",
       "      <td>993.00000</td>\n",
       "      <td>4.761905e+00</td>\n",
       "      <td>49.650000</td>\n",
       "      <td>10.00000</td>\n",
       "      <td>2019.0</td>\n",
       "      <td>3.000000</td>\n",
       "      <td>31.000000</td>\n",
       "    </tr>\n",
       "  </tbody>\n",
       "</table>\n",
       "</div>"
      ],
      "text/plain": [
       "        Unit price     Quantity       Tax 5%        Total        cogs  \\\n",
       "count  1000.000000  1000.000000  1000.000000  1000.000000  1000.00000   \n",
       "mean     55.672130     5.510000    15.379369   322.966749   307.58738   \n",
       "std      26.494628     2.923431    11.708825   245.885335   234.17651   \n",
       "min      10.080000     1.000000     0.508500    10.678500    10.17000   \n",
       "25%      32.875000     3.000000     5.924875   124.422375   118.49750   \n",
       "50%      55.230000     5.000000    12.088000   253.848000   241.76000   \n",
       "75%      77.935000     8.000000    22.445250   471.350250   448.90500   \n",
       "max      99.960000    10.000000    49.650000  1042.650000   993.00000   \n",
       "\n",
       "       gross margin percentage  gross income      Rating    Year        Month  \\\n",
       "count             1.000000e+03   1000.000000  1000.00000  1000.0  1000.000000   \n",
       "mean              4.761905e+00     15.379369     6.97270  2019.0     1.993000   \n",
       "std               6.131498e-14     11.708825     1.71858     0.0     0.835254   \n",
       "min               4.761905e+00      0.508500     4.00000  2019.0     1.000000   \n",
       "25%               4.761905e+00      5.924875     5.50000  2019.0     1.000000   \n",
       "50%               4.761905e+00     12.088000     7.00000  2019.0     2.000000   \n",
       "75%               4.761905e+00     22.445250     8.50000  2019.0     3.000000   \n",
       "max               4.761905e+00     49.650000    10.00000  2019.0     3.000000   \n",
       "\n",
       "               Day  \n",
       "count  1000.000000  \n",
       "mean     15.256000  \n",
       "std       8.693563  \n",
       "min       1.000000  \n",
       "25%       8.000000  \n",
       "50%      15.000000  \n",
       "75%      23.000000  \n",
       "max      31.000000  "
      ]
     },
     "execution_count": 14,
     "metadata": {},
     "output_type": "execute_result"
    }
   ],
   "source": [
    "supermarketSales.describe()\n",
    "#std = standard deviation \n",
    "## is a measure of the amount of variation or dispersion of a set of values"
   ]
  },
  {
   "cell_type": "markdown",
   "id": "7620e0c9",
   "metadata": {},
   "source": [
    "En la descripció del dataset podem veure com es correspon a valors de rangs molt diferents. Per tant hauré de intervenir en els valors si vull tenir models de gran precisió."
   ]
  },
  {
   "cell_type": "markdown",
   "id": "cb964151",
   "metadata": {},
   "source": [
    "Sobre els valors de tipus objectes busco fins a quants valors únics tinc de cadascun."
   ]
  },
  {
   "cell_type": "code",
   "execution_count": 15,
   "id": "652ae998",
   "metadata": {},
   "outputs": [
    {
     "name": "stdout",
     "output_type": "stream",
     "text": [
      "Invoice ID 1000\n",
      "Branch 3\n",
      "['A' 'C' 'B']\n",
      "City 3\n",
      "['Yangon' 'Naypyitaw' 'Mandalay']\n",
      "Customer type 2\n",
      "['Member' 'Normal']\n",
      "Gender 2\n",
      "['Female' 'Male']\n",
      "Product line 6\n",
      "['Health and beauty' 'Electronic accessories' 'Home and lifestyle'\n",
      " 'Sports and travel' 'Food and beverages' 'Fashion accessories']\n",
      "Time 506\n",
      "Payment 3\n",
      "['Ewallet' 'Cash' 'Credit card']\n"
     ]
    }
   ],
   "source": [
    "#unique values\n",
    "categorical_columns = [cname for cname in supermarketSales.columns if supermarketSales[cname].dtype == \"object\"]\n",
    "for i in categorical_columns:\n",
    "    if supermarketSales[i].nunique() < 10 :\n",
    "        print(i,supermarketSales[i].nunique())\n",
    "        print(supermarketSales[i].unique())\n",
    "    else : print(i,supermarketSales[i].nunique())\n"
   ]
  },
  {
   "cell_type": "markdown",
   "id": "d96d59e8",
   "metadata": {},
   "source": [
    "Podem observar que els camps Invoice ID i Time tenen molts valors diferents. Per tant, no puc donar ningun tipus de acció.\n",
    "El camp Invoice ID no te ninguna mena de importancia ja que només es tractad e un identificador de la compra feta. Per tant, no servirà com a valor per predir i la puc eliminar.\n",
    "El time la mantinc ja que potser pot tenir una correlació.\n",
    "\n",
    "Els camps Branch, City, Customer, Gender, Product Line, i Payment si tenen valors categòrics. \n",
    "Això em permetrà categoritzar-los per poder millorà el dataset.\n",
    "\n",
    "El camp Product Line en paritcular té fins a 6 valors diferents. Aplicaré un one hot encoding al tenir tants valors diferents."
   ]
  },
  {
   "cell_type": "markdown",
   "id": "22785042",
   "metadata": {},
   "source": [
    "Ara que ja hem vist els valors una mica per dins, imprimeixo els gràfics per veure els resultats."
   ]
  },
  {
   "cell_type": "code",
   "execution_count": 16,
   "id": "533564db",
   "metadata": {},
   "outputs": [
    {
     "data": {
      "text/plain": [
       "<AxesSubplot:xlabel='Branch', ylabel='Rating'>"
      ]
     },
     "execution_count": 16,
     "metadata": {},
     "output_type": "execute_result"
    },
    {
     "data": {
      "image/png": "[encoded data removed]",
      "text/plain": [
       "<Figure size 432x288 with 1 Axes>"
      ]
     },
     "metadata": {
      "needs_background": "light"
     },
     "output_type": "display_data"
    }
   ],
   "source": [
    "sns.boxplot(x=\"Branch\", y=\"Rating\", data = supermarketSales)"
   ]
  },
  {
   "cell_type": "markdown",
   "id": "7b5ecdea",
   "metadata": {},
   "source": [
    "El anterior gràfic podem observar com la branca amb una valoració menor és la branca B."
   ]
  },
  {
   "cell_type": "code",
   "execution_count": 17,
   "id": "915a3fcc",
   "metadata": {},
   "outputs": [
    {
     "data": {
      "text/plain": [
       "<AxesSubplot:xlabel='City', ylabel='Rating'>"
      ]
     },
     "execution_count": 17,
     "metadata": {},
     "output_type": "execute_result"
    },
    {
     "data": {
      "image/png": "[encoded data removed]",
      "text/plain": [
       "<Figure size 432x288 with 1 Axes>"
      ]
     },
     "metadata": {
      "needs_background": "light"
     },
     "output_type": "display_data"
    }
   ],
   "source": [
    "sns.boxplot(x=\"City\", y=\"Rating\", data = supermarketSales)"
   ]
  },
  {
   "cell_type": "markdown",
   "id": "8744d4c5",
   "metadata": {},
   "source": [
    "En el anterior gràfic podem verue com la ciutat que ha donat una menor valoració a les seves compres és Mandalay."
   ]
  },
  {
   "cell_type": "code",
   "execution_count": 18,
   "id": "b2e52bb6",
   "metadata": {},
   "outputs": [
    {
     "data": {
      "text/plain": [
       "<AxesSubplot:xlabel='Rating', ylabel='Product line'>"
      ]
     },
     "execution_count": 18,
     "metadata": {},
     "output_type": "execute_result"
    },
    {
     "data": {
      "image/png": "[encoded data removed]",
      "text/plain": [
       "<Figure size 432x288 with 1 Axes>"
      ]
     },
     "metadata": {
      "needs_background": "light"
     },
     "output_type": "display_data"
    }
   ],
   "source": [
    "sns.boxplot(y=\"Product line\", x=\"Rating\", data = supermarketSales)\n",
    "#comparar respecte preus"
   ]
  },
  {
   "cell_type": "markdown",
   "id": "f9092d0a",
   "metadata": {},
   "source": [
    "En el anterior gràfic podem veure com el rating és molt similar entr els product lines. Destacar com el Food and beverages dona un valor millor que els altres."
   ]
  },
  {
   "cell_type": "code",
   "execution_count": 19,
   "id": "9d929258",
   "metadata": {},
   "outputs": [
    {
     "data": {
      "text/plain": [
       "<AxesSubplot:xlabel='Month', ylabel='Rating'>"
      ]
     },
     "execution_count": 19,
     "metadata": {},
     "output_type": "execute_result"
    },
    {
     "data": {
      "image/png": "[encoded data removed]",
      "text/plain": [
       "<Figure size 432x288 with 1 Axes>"
      ]
     },
     "metadata": {
      "needs_background": "light"
     },
     "output_type": "display_data"
    }
   ],
   "source": [
    "sns.boxplot(y=\"Rating\", x=\"Month\", data = supermarketSales)"
   ]
  },
  {
   "cell_type": "markdown",
   "id": "fd019f49",
   "metadata": {},
   "source": [
    "En el anterior gràfic dona també veiem que durant el mes 3 ha donat valors més baixos que els altres dos."
   ]
  },
  {
   "cell_type": "code",
   "execution_count": 20,
   "id": "66afb05d",
   "metadata": {},
   "outputs": [
    {
     "data": {
      "image/png": "[encoded data removed]",
      "text/plain": [
       "<Figure size 432x288 with 1 Axes>"
      ]
     },
     "metadata": {},
     "output_type": "display_data"
    }
   ],
   "source": [
    "sns.set(style=\"white\")\n",
    "gender = sns.countplot(x = \"Gender\", data = supermarketSales) "
   ]
  },
  {
   "cell_type": "markdown",
   "id": "ff1e03ad",
   "metadata": {},
   "source": [
    "Podem observar com el nombre de homes i dones que han realitzat compres son el mateix o molt similar."
   ]
  },
  {
   "cell_type": "code",
   "execution_count": 21,
   "id": "cc0abbc3",
   "metadata": {},
   "outputs": [
    {
     "data": {
      "text/plain": [
       "<AxesSubplot:>"
      ]
     },
     "execution_count": 21,
     "metadata": {},
     "output_type": "execute_result"
    },
    {
     "data": {
      "image/png": "[encoded data removed]",
      "text/plain": [
       "<Figure size 750x500 with 2 Axes>"
      ]
     },
     "metadata": {},
     "output_type": "display_data"
    }
   ],
   "source": [
    "# Mirem la correlació entre els atributs d'entrada per entendre millor les dades\n",
    "correlacio = supermarketSales[['Branch','City','Gender','Product line', 'Unit price', 'Quantity', 'Tax 5%', 'Total','cogs','gross income', 'Rating', 'Month']].corr()\n",
    "\n",
    "plt.figure(dpi=125)\n",
    "\n",
    "sns.heatmap(np.round(correlacio,1), annot=True, linewidths=.5, cmap='Blues')"
   ]
  },
  {
   "cell_type": "markdown",
   "id": "aae5e332",
   "metadata": {},
   "source": [
    "En el mapa de correlació anterior podem observar la correl·lació del dataset.\n",
    "\n",
    "Podem observar com els camps Tax 5%, Total, cogs, gross income tenen una correl·lació de 1 cosa que fa que siguin directes i podem cosntruir models amb un precisió molt alta.\n",
    "Podriem escollir un d'aquestst com a camp objectiu cadascun d'ells i donaria uns models molt bons. \n",
    "El tema está que es poc interessant en aquest sentit i optaré per escollir altres camps.\n",
    "\n",
    "Després tenim la quantity i unit price que amb els 4 valors anteriors (Tax 5%, Total, cogs, gross income) que tenen correl·lacions de 0.7 i 0.6 respectivament. Amb aquests podem treballar-hi també, però son valors poc interessant de predir. Ja que saber la quantitat de productes que es vendran o el preu per unitat mitjà no ho considero gaire productiu.\n",
    "\n",
    "Aleshores he optat com a primer camp objectiu el Rating. He optat per aquest perquè pot ser interessant poder predir quin rating pot tenir en un futur els supermercats.\n",
    "\n"
   ]
  },
  {
   "cell_type": "code",
   "execution_count": 22,
   "id": "13fa6892",
   "metadata": {},
   "outputs": [
    {
     "data": {
      "text/html": [
       "<div>\n",
       "<style scoped>\n",
       "    .dataframe tbody tr th:only-of-type {\n",
       "        vertical-align: middle;\n",
       "    }\n",
       "\n",
       "    .dataframe tbody tr th {\n",
       "        vertical-align: top;\n",
       "    }\n",
       "\n",
       "    .dataframe thead th {\n",
       "        text-align: right;\n",
       "    }\n",
       "</style>\n",
       "<table border=\"1\" class=\"dataframe\">\n",
       "  <thead>\n",
       "    <tr style=\"text-align: right;\">\n",
       "      <th></th>\n",
       "      <th>Unit price</th>\n",
       "      <th>Quantity</th>\n",
       "      <th>Tax 5%</th>\n",
       "      <th>Total</th>\n",
       "      <th>cogs</th>\n",
       "      <th>gross margin percentage</th>\n",
       "      <th>gross income</th>\n",
       "      <th>Rating</th>\n",
       "      <th>Year</th>\n",
       "      <th>Month</th>\n",
       "      <th>Day</th>\n",
       "    </tr>\n",
       "  </thead>\n",
       "  <tbody>\n",
       "    <tr>\n",
       "      <th>Unit price</th>\n",
       "      <td>1.000000</td>\n",
       "      <td>0.010778</td>\n",
       "      <td>0.633962</td>\n",
       "      <td>0.633962</td>\n",
       "      <td>0.633962</td>\n",
       "      <td>NaN</td>\n",
       "      <td>0.633962</td>\n",
       "      <td>-0.008778</td>\n",
       "      <td>NaN</td>\n",
       "      <td>-0.027387</td>\n",
       "      <td>0.057021</td>\n",
       "    </tr>\n",
       "    <tr>\n",
       "      <th>Quantity</th>\n",
       "      <td>0.010778</td>\n",
       "      <td>1.000000</td>\n",
       "      <td>0.705510</td>\n",
       "      <td>0.705510</td>\n",
       "      <td>0.705510</td>\n",
       "      <td>NaN</td>\n",
       "      <td>0.705510</td>\n",
       "      <td>-0.015815</td>\n",
       "      <td>NaN</td>\n",
       "      <td>-0.014524</td>\n",
       "      <td>-0.043347</td>\n",
       "    </tr>\n",
       "    <tr>\n",
       "      <th>Tax 5%</th>\n",
       "      <td>0.633962</td>\n",
       "      <td>0.705510</td>\n",
       "      <td>1.000000</td>\n",
       "      <td>1.000000</td>\n",
       "      <td>1.000000</td>\n",
       "      <td>NaN</td>\n",
       "      <td>1.000000</td>\n",
       "      <td>-0.036442</td>\n",
       "      <td>NaN</td>\n",
       "      <td>-0.022301</td>\n",
       "      <td>-0.002515</td>\n",
       "    </tr>\n",
       "    <tr>\n",
       "      <th>Total</th>\n",
       "      <td>0.633962</td>\n",
       "      <td>0.705510</td>\n",
       "      <td>1.000000</td>\n",
       "      <td>1.000000</td>\n",
       "      <td>1.000000</td>\n",
       "      <td>NaN</td>\n",
       "      <td>1.000000</td>\n",
       "      <td>-0.036442</td>\n",
       "      <td>NaN</td>\n",
       "      <td>-0.022301</td>\n",
       "      <td>-0.002515</td>\n",
       "    </tr>\n",
       "    <tr>\n",
       "      <th>cogs</th>\n",
       "      <td>0.633962</td>\n",
       "      <td>0.705510</td>\n",
       "      <td>1.000000</td>\n",
       "      <td>1.000000</td>\n",
       "      <td>1.000000</td>\n",
       "      <td>NaN</td>\n",
       "      <td>1.000000</td>\n",
       "      <td>-0.036442</td>\n",
       "      <td>NaN</td>\n",
       "      <td>-0.022301</td>\n",
       "      <td>-0.002515</td>\n",
       "    </tr>\n",
       "    <tr>\n",
       "      <th>gross margin percentage</th>\n",
       "      <td>NaN</td>\n",
       "      <td>NaN</td>\n",
       "      <td>NaN</td>\n",
       "      <td>NaN</td>\n",
       "      <td>NaN</td>\n",
       "      <td>NaN</td>\n",
       "      <td>NaN</td>\n",
       "      <td>NaN</td>\n",
       "      <td>NaN</td>\n",
       "      <td>NaN</td>\n",
       "      <td>NaN</td>\n",
       "    </tr>\n",
       "    <tr>\n",
       "      <th>gross income</th>\n",
       "      <td>0.633962</td>\n",
       "      <td>0.705510</td>\n",
       "      <td>1.000000</td>\n",
       "      <td>1.000000</td>\n",
       "      <td>1.000000</td>\n",
       "      <td>NaN</td>\n",
       "      <td>1.000000</td>\n",
       "      <td>-0.036442</td>\n",
       "      <td>NaN</td>\n",
       "      <td>-0.022301</td>\n",
       "      <td>-0.002515</td>\n",
       "    </tr>\n",
       "    <tr>\n",
       "      <th>Rating</th>\n",
       "      <td>-0.008778</td>\n",
       "      <td>-0.015815</td>\n",
       "      <td>-0.036442</td>\n",
       "      <td>-0.036442</td>\n",
       "      <td>-0.036442</td>\n",
       "      <td>NaN</td>\n",
       "      <td>-0.036442</td>\n",
       "      <td>1.000000</td>\n",
       "      <td>NaN</td>\n",
       "      <td>-0.042880</td>\n",
       "      <td>-0.007076</td>\n",
       "    </tr>\n",
       "    <tr>\n",
       "      <th>Year</th>\n",
       "      <td>NaN</td>\n",
       "      <td>NaN</td>\n",
       "      <td>NaN</td>\n",
       "      <td>NaN</td>\n",
       "      <td>NaN</td>\n",
       "      <td>NaN</td>\n",
       "      <td>NaN</td>\n",
       "      <td>NaN</td>\n",
       "      <td>NaN</td>\n",
       "      <td>NaN</td>\n",
       "      <td>NaN</td>\n",
       "    </tr>\n",
       "    <tr>\n",
       "      <th>Month</th>\n",
       "      <td>-0.027387</td>\n",
       "      <td>-0.014524</td>\n",
       "      <td>-0.022301</td>\n",
       "      <td>-0.022301</td>\n",
       "      <td>-0.022301</td>\n",
       "      <td>NaN</td>\n",
       "      <td>-0.022301</td>\n",
       "      <td>-0.042880</td>\n",
       "      <td>NaN</td>\n",
       "      <td>1.000000</td>\n",
       "      <td>-0.118996</td>\n",
       "    </tr>\n",
       "    <tr>\n",
       "      <th>Day</th>\n",
       "      <td>0.057021</td>\n",
       "      <td>-0.043347</td>\n",
       "      <td>-0.002515</td>\n",
       "      <td>-0.002515</td>\n",
       "      <td>-0.002515</td>\n",
       "      <td>NaN</td>\n",
       "      <td>-0.002515</td>\n",
       "      <td>-0.007076</td>\n",
       "      <td>NaN</td>\n",
       "      <td>-0.118996</td>\n",
       "      <td>1.000000</td>\n",
       "    </tr>\n",
       "  </tbody>\n",
       "</table>\n",
       "</div>"
      ],
      "text/plain": [
       "                         Unit price  Quantity    Tax 5%     Total      cogs  \\\n",
       "Unit price                 1.000000  0.010778  0.633962  0.633962  0.633962   \n",
       "Quantity                   0.010778  1.000000  0.705510  0.705510  0.705510   \n",
       "Tax 5%                     0.633962  0.705510  1.000000  1.000000  1.000000   \n",
       "Total                      0.633962  0.705510  1.000000  1.000000  1.000000   \n",
       "cogs                       0.633962  0.705510  1.000000  1.000000  1.000000   \n",
       "gross margin percentage         NaN       NaN       NaN       NaN       NaN   \n",
       "gross income               0.633962  0.705510  1.000000  1.000000  1.000000   \n",
       "Rating                    -0.008778 -0.015815 -0.036442 -0.036442 -0.036442   \n",
       "Year                            NaN       NaN       NaN       NaN       NaN   \n",
       "Month                     -0.027387 -0.014524 -0.022301 -0.022301 -0.022301   \n",
       "Day                        0.057021 -0.043347 -0.002515 -0.002515 -0.002515   \n",
       "\n",
       "                         gross margin percentage  gross income    Rating  \\\n",
       "Unit price                                   NaN      0.633962 -0.008778   \n",
       "Quantity                                     NaN      0.705510 -0.015815   \n",
       "Tax 5%                                       NaN      1.000000 -0.036442   \n",
       "Total                                        NaN      1.000000 -0.036442   \n",
       "cogs                                         NaN      1.000000 -0.036442   \n",
       "gross margin percentage                      NaN           NaN       NaN   \n",
       "gross income                                 NaN      1.000000 -0.036442   \n",
       "Rating                                       NaN     -0.036442  1.000000   \n",
       "Year                                         NaN           NaN       NaN   \n",
       "Month                                        NaN     -0.022301 -0.042880   \n",
       "Day                                          NaN     -0.002515 -0.007076   \n",
       "\n",
       "                         Year     Month       Day  \n",
       "Unit price                NaN -0.027387  0.057021  \n",
       "Quantity                  NaN -0.014524 -0.043347  \n",
       "Tax 5%                    NaN -0.022301 -0.002515  \n",
       "Total                     NaN -0.022301 -0.002515  \n",
       "cogs                      NaN -0.022301 -0.002515  \n",
       "gross margin percentage   NaN       NaN       NaN  \n",
       "gross income              NaN -0.022301 -0.002515  \n",
       "Rating                    NaN -0.042880 -0.007076  \n",
       "Year                      NaN       NaN       NaN  \n",
       "Month                     NaN  1.000000 -0.118996  \n",
       "Day                       NaN -0.118996  1.000000  "
      ]
     },
     "execution_count": 22,
     "metadata": {},
     "output_type": "execute_result"
    }
   ],
   "source": [
    "supermarketSales.corr()"
   ]
  },
  {
   "cell_type": "markdown",
   "id": "d142d74b",
   "metadata": {},
   "source": [
    "A continuació he mirat les dades en gràfics per descartar anomalies o errors. Moltes vegades amb gràfics és molt més fàcil observar aquestes dades incorrectes que amb els 1000 valors que té el dataset. "
   ]
  },
  {
   "cell_type": "code",
   "execution_count": null,
   "id": "3bd46daa",
   "metadata": {},
   "outputs": [],
   "source": [
    "# Mirem la relació entre atributs utilitzant la funció pairplot\n",
    "relacio = sns.pairplot(corr)"
   ]
  },
  {
   "cell_type": "markdown",
   "id": "b161d0da",
   "metadata": {},
   "source": [
    "Destaco que el gross margin percentage és tot els camps el mateix valor. Per tant no aporta res al dataset i l'eliminaré.\n",
    "La resta de valors semblen coherents i seguiré amb l'estudi."
   ]
  },
  {
   "cell_type": "code",
   "execution_count": null,
   "id": "342e8729",
   "metadata": {},
   "outputs": [],
   "source": [
    "sns.distplot(supermarketSales['Rating'])\n",
    "sns.histplot(supermarketSales['Rating'])\n",
    "\n",
    "fig, ax = plt.subplots()\n",
    "sns.histplot(supermarketSales['Rating'], ax=ax)  # distplot is deprecate and replaced by histplot\n",
    "ax.set_xlim(4,10)\n",
    "ax.set_xticks(range(4,10))\n",
    "plt.show()"
   ]
  },
  {
   "cell_type": "markdown",
   "id": "caf41b39",
   "metadata": {},
   "source": [
    "Sobre el meu camp objectiu Rating observo que té valors reals, osigui que no té nigun valor fora de rang o molt distribuits.\n",
    "Aquests valors estan distribuits entre 4 i 10."
   ]
  },
  {
   "cell_type": "code",
   "execution_count": null,
   "id": "ee8156de",
   "metadata": {},
   "outputs": [],
   "source": [
    "sns.distplot(supermarketSales['Rating']) #bona distribució"
   ]
  },
  {
   "cell_type": "markdown",
   "id": "2b0f55fa",
   "metadata": {},
   "source": [
    "Es en un principi una distribució normal."
   ]
  },
  {
   "cell_type": "code",
   "execution_count": 45,
   "id": "c95c3dd6",
   "metadata": {},
   "outputs": [
    {
     "name": "stderr",
     "output_type": "stream",
     "text": [
      "C:\\Users\\pauro\\anaconda3\\lib\\site-packages\\seaborn\\distributions.py:2557: FutureWarning: `distplot` is a deprecated function and will be removed in a future version. Please adapt your code to use either `displot` (a figure-level function with similar flexibility) or `histplot` (an axes-level function for histograms).\n",
      "  warnings.warn(msg, FutureWarning)\n"
     ]
    },
    {
     "data": {
      "image/png": "[encoded data removed]",
      "text/plain": [
       "<Figure size 750x500 with 1 Axes>"
      ]
     },
     "metadata": {},
     "output_type": "display_data"
    }
   ],
   "source": [
    "# To find Mean Rating\n",
    "plt.figure(dpi=125)\n",
    "sns.distplot(supermarketSales['Rating'],kde=False)\n",
    "plt.axvline(x=np.mean(supermarketSales['Rating']),c='green',label='Mean Rating')\n",
    "plt.legend()\n",
    "plt.show()"
   ]
  },
  {
   "cell_type": "markdown",
   "id": "a36cf96f",
   "metadata": {},
   "source": [
    "I la mitja dels valors es correspon a 7."
   ]
  },
  {
   "cell_type": "code",
   "execution_count": null,
   "id": "0fbce5c5",
   "metadata": {},
   "outputs": [],
   "source": []
  },
  {
   "cell_type": "code",
   "execution_count": 46,
   "id": "06a12915",
   "metadata": {},
   "outputs": [
    {
     "data": {
      "image/png": "[encoded data removed]",
      "text/plain": [
       "<Figure size 796.35x360 with 1 Axes>"
      ]
     },
     "metadata": {},
     "output_type": "display_data"
    }
   ],
   "source": [
    "sns.catplot(x='Product line',y='Unit price',hue='Gender',data=supermarketSales,aspect=2)\n",
    "plt.xlabel('Product Type')\n",
    "plt.ylabel('Unit Price')\n",
    "plt.show()"
   ]
  },
  {
   "cell_type": "markdown",
   "id": "36197d35",
   "metadata": {},
   "source": [
    "En la gràfica anterior podem veure la distribució de compra dels diferents linies de productes en funció del unit price per genere. "
   ]
  },
  {
   "cell_type": "markdown",
   "id": "fd966a2d",
   "metadata": {},
   "source": [
    "Abans de començar amb els models faré un one hot encoding de 'Product Line' al tenir diferents valors."
   ]
  },
  {
   "cell_type": "code",
   "execution_count": 51,
   "id": "69926d43",
   "metadata": {},
   "outputs": [
    {
     "name": "stdout",
     "output_type": "stream",
     "text": [
      "  Branch       City Customer type  Gender  Unit price  Quantity   Tax 5%  \\\n",
      "0      A     Yangon        Member  Female       74.69         7  26.1415   \n",
      "1      C  Naypyitaw        Normal  Female       15.28         5   3.8200   \n",
      "2      A     Yangon        Normal    Male       46.33         7  16.2155   \n",
      "3      A     Yangon        Member    Male       58.22         8  23.2880   \n",
      "4      A     Yangon        Normal    Male       86.31         7  30.2085   \n",
      "\n",
      "      Total      Payment    cogs  gross income  Rating  Month  Day  \\\n",
      "0  548.9715      Ewallet  522.83       26.1415     9.1      1    5   \n",
      "1   80.2200         Cash   76.40        3.8200     9.6      3    8   \n",
      "2  340.5255  Credit card  324.31       16.2155     7.4      3    3   \n",
      "3  489.0480      Ewallet  465.76       23.2880     8.4      1   27   \n",
      "4  634.3785      Ewallet  604.17       30.2085     5.3      2    8   \n",
      "\n",
      "   Electronic accessories  Fashion accessories  Food and beverages  \\\n",
      "0                       0                    0                   0   \n",
      "1                       1                    0                   0   \n",
      "2                       0                    0                   0   \n",
      "3                       0                    0                   0   \n",
      "4                       0                    0                   0   \n",
      "\n",
      "   Health and beauty  Home and lifestyle  Sports and travel  \n",
      "0                  1                   0                  0  \n",
      "1                  0                   0                  0  \n",
      "2                  0                   1                  0  \n",
      "3                  1                   0                  0  \n",
      "4                  0                   0                  1  \n"
     ]
    }
   ],
   "source": [
    "#one hot encoding => Product line\n",
    "# One-hot encode the data using pandas get_dummies\n",
    "data = supermarketSales.drop(['Invoice ID' , 'Time', 'gross margin percentage', 'Year'], axis=1) #'Date',\n",
    "#data = supermarketSales.drop(['Time', 'Invoice ID'], axis=1)\n",
    "ohe = pd.get_dummies(data['Product line'])# Display the first 5 rows of the last 12 columns\n",
    "data = data.drop('Product line', axis=1)\n",
    "data = data.join(ohe)\n",
    "print(data.head())\n",
    "#ohe.iloc[:,6:].head(6)\n",
    "#print(ohe)"
   ]
  },
  {
   "cell_type": "markdown",
   "id": "de3a249d",
   "metadata": {},
   "source": [
    "Després realitzaré la categorització de tot els valors objectes que amb valors string no aporta en res al model i ha de treballar amb valors numèrics."
   ]
  },
  {
   "cell_type": "code",
   "execution_count": null,
   "id": "ba0bf13d",
   "metadata": {},
   "outputs": [],
   "source": [
    "##categorització\n",
    "from sklearn.preprocessing import LabelEncoder\n",
    "\n",
    "categorical_columns = [cname for cname in data.columns if data[cname].dtype == \"object\"]\n",
    "le=LabelEncoder()\n",
    "\n",
    "for i in categorical_columns:\n",
    "    data[i] = le.fit_transform( data[i])\n",
    "\n",
    "data.head()"
   ]
  },
  {
   "cell_type": "markdown",
   "id": "fb2c3585",
   "metadata": {},
   "source": [
    "Un cop tenim les dades netes, analitzades i optimitzades, començo a fer l'entrenament dels models. "
   ]
  },
  {
   "cell_type": "code",
   "execution_count": 52,
   "id": "f63c5032",
   "metadata": {},
   "outputs": [],
   "source": [
    "##Train and Test"
   ]
  },
  {
   "cell_type": "code",
   "execution_count": 53,
   "id": "bfa6d851",
   "metadata": {},
   "outputs": [],
   "source": [
    "from sklearn.model_selection import train_test_split\n",
    "#supermarketSales = supermarketSales.drop(['Time','Invoice ID', 'Date'], axis = 1)"
   ]
  },
  {
   "cell_type": "code",
   "execution_count": 54,
   "id": "fb02c2cd",
   "metadata": {},
   "outputs": [
    {
     "data": {
      "text/html": [
       "<div>\n",
       "<style scoped>\n",
       "    .dataframe tbody tr th:only-of-type {\n",
       "        vertical-align: middle;\n",
       "    }\n",
       "\n",
       "    .dataframe tbody tr th {\n",
       "        vertical-align: top;\n",
       "    }\n",
       "\n",
       "    .dataframe thead th {\n",
       "        text-align: right;\n",
       "    }\n",
       "</style>\n",
       "<table border=\"1\" class=\"dataframe\">\n",
       "  <thead>\n",
       "    <tr style=\"text-align: right;\">\n",
       "      <th></th>\n",
       "      <th>Unit price</th>\n",
       "      <th>Quantity</th>\n",
       "      <th>Tax 5%</th>\n",
       "      <th>Total</th>\n",
       "      <th>cogs</th>\n",
       "      <th>gross income</th>\n",
       "      <th>Rating</th>\n",
       "      <th>Month</th>\n",
       "      <th>Day</th>\n",
       "      <th>Electronic accessories</th>\n",
       "      <th>Fashion accessories</th>\n",
       "      <th>Food and beverages</th>\n",
       "      <th>Health and beauty</th>\n",
       "      <th>Home and lifestyle</th>\n",
       "      <th>Sports and travel</th>\n",
       "    </tr>\n",
       "  </thead>\n",
       "  <tbody>\n",
       "    <tr>\n",
       "      <th>count</th>\n",
       "      <td>1000.000000</td>\n",
       "      <td>1000.000000</td>\n",
       "      <td>1000.000000</td>\n",
       "      <td>1000.000000</td>\n",
       "      <td>1000.00000</td>\n",
       "      <td>1000.000000</td>\n",
       "      <td>1000.00000</td>\n",
       "      <td>1000.000000</td>\n",
       "      <td>1000.000000</td>\n",
       "      <td>1000.000000</td>\n",
       "      <td>1000.000000</td>\n",
       "      <td>1000.000000</td>\n",
       "      <td>1000.000000</td>\n",
       "      <td>1000.000000</td>\n",
       "      <td>1000.000000</td>\n",
       "    </tr>\n",
       "    <tr>\n",
       "      <th>mean</th>\n",
       "      <td>55.672130</td>\n",
       "      <td>5.510000</td>\n",
       "      <td>15.379369</td>\n",
       "      <td>322.966749</td>\n",
       "      <td>307.58738</td>\n",
       "      <td>15.379369</td>\n",
       "      <td>6.97270</td>\n",
       "      <td>1.993000</td>\n",
       "      <td>15.256000</td>\n",
       "      <td>0.170000</td>\n",
       "      <td>0.178000</td>\n",
       "      <td>0.174000</td>\n",
       "      <td>0.152000</td>\n",
       "      <td>0.160000</td>\n",
       "      <td>0.166000</td>\n",
       "    </tr>\n",
       "    <tr>\n",
       "      <th>std</th>\n",
       "      <td>26.494628</td>\n",
       "      <td>2.923431</td>\n",
       "      <td>11.708825</td>\n",
       "      <td>245.885335</td>\n",
       "      <td>234.17651</td>\n",
       "      <td>11.708825</td>\n",
       "      <td>1.71858</td>\n",
       "      <td>0.835254</td>\n",
       "      <td>8.693563</td>\n",
       "      <td>0.375821</td>\n",
       "      <td>0.382704</td>\n",
       "      <td>0.379299</td>\n",
       "      <td>0.359201</td>\n",
       "      <td>0.366789</td>\n",
       "      <td>0.372267</td>\n",
       "    </tr>\n",
       "    <tr>\n",
       "      <th>min</th>\n",
       "      <td>10.080000</td>\n",
       "      <td>1.000000</td>\n",
       "      <td>0.508500</td>\n",
       "      <td>10.678500</td>\n",
       "      <td>10.17000</td>\n",
       "      <td>0.508500</td>\n",
       "      <td>4.00000</td>\n",
       "      <td>1.000000</td>\n",
       "      <td>1.000000</td>\n",
       "      <td>0.000000</td>\n",
       "      <td>0.000000</td>\n",
       "      <td>0.000000</td>\n",
       "      <td>0.000000</td>\n",
       "      <td>0.000000</td>\n",
       "      <td>0.000000</td>\n",
       "    </tr>\n",
       "    <tr>\n",
       "      <th>25%</th>\n",
       "      <td>32.875000</td>\n",
       "      <td>3.000000</td>\n",
       "      <td>5.924875</td>\n",
       "      <td>124.422375</td>\n",
       "      <td>118.49750</td>\n",
       "      <td>5.924875</td>\n",
       "      <td>5.50000</td>\n",
       "      <td>1.000000</td>\n",
       "      <td>8.000000</td>\n",
       "      <td>0.000000</td>\n",
       "      <td>0.000000</td>\n",
       "      <td>0.000000</td>\n",
       "      <td>0.000000</td>\n",
       "      <td>0.000000</td>\n",
       "      <td>0.000000</td>\n",
       "    </tr>\n",
       "    <tr>\n",
       "      <th>50%</th>\n",
       "      <td>55.230000</td>\n",
       "      <td>5.000000</td>\n",
       "      <td>12.088000</td>\n",
       "      <td>253.848000</td>\n",
       "      <td>241.76000</td>\n",
       "      <td>12.088000</td>\n",
       "      <td>7.00000</td>\n",
       "      <td>2.000000</td>\n",
       "      <td>15.000000</td>\n",
       "      <td>0.000000</td>\n",
       "      <td>0.000000</td>\n",
       "      <td>0.000000</td>\n",
       "      <td>0.000000</td>\n",
       "      <td>0.000000</td>\n",
       "      <td>0.000000</td>\n",
       "    </tr>\n",
       "    <tr>\n",
       "      <th>75%</th>\n",
       "      <td>77.935000</td>\n",
       "      <td>8.000000</td>\n",
       "      <td>22.445250</td>\n",
       "      <td>471.350250</td>\n",
       "      <td>448.90500</td>\n",
       "      <td>22.445250</td>\n",
       "      <td>8.50000</td>\n",
       "      <td>3.000000</td>\n",
       "      <td>23.000000</td>\n",
       "      <td>0.000000</td>\n",
       "      <td>0.000000</td>\n",
       "      <td>0.000000</td>\n",
       "      <td>0.000000</td>\n",
       "      <td>0.000000</td>\n",
       "      <td>0.000000</td>\n",
       "    </tr>\n",
       "    <tr>\n",
       "      <th>max</th>\n",
       "      <td>99.960000</td>\n",
       "      <td>10.000000</td>\n",
       "      <td>49.650000</td>\n",
       "      <td>1042.650000</td>\n",
       "      <td>993.00000</td>\n",
       "      <td>49.650000</td>\n",
       "      <td>10.00000</td>\n",
       "      <td>3.000000</td>\n",
       "      <td>31.000000</td>\n",
       "      <td>1.000000</td>\n",
       "      <td>1.000000</td>\n",
       "      <td>1.000000</td>\n",
       "      <td>1.000000</td>\n",
       "      <td>1.000000</td>\n",
       "      <td>1.000000</td>\n",
       "    </tr>\n",
       "  </tbody>\n",
       "</table>\n",
       "</div>"
      ],
      "text/plain": [
       "        Unit price     Quantity       Tax 5%        Total        cogs  \\\n",
       "count  1000.000000  1000.000000  1000.000000  1000.000000  1000.00000   \n",
       "mean     55.672130     5.510000    15.379369   322.966749   307.58738   \n",
       "std      26.494628     2.923431    11.708825   245.885335   234.17651   \n",
       "min      10.080000     1.000000     0.508500    10.678500    10.17000   \n",
       "25%      32.875000     3.000000     5.924875   124.422375   118.49750   \n",
       "50%      55.230000     5.000000    12.088000   253.848000   241.76000   \n",
       "75%      77.935000     8.000000    22.445250   471.350250   448.90500   \n",
       "max      99.960000    10.000000    49.650000  1042.650000   993.00000   \n",
       "\n",
       "       gross income      Rating        Month          Day  \\\n",
       "count   1000.000000  1000.00000  1000.000000  1000.000000   \n",
       "mean      15.379369     6.97270     1.993000    15.256000   \n",
       "std       11.708825     1.71858     0.835254     8.693563   \n",
       "min        0.508500     4.00000     1.000000     1.000000   \n",
       "25%        5.924875     5.50000     1.000000     8.000000   \n",
       "50%       12.088000     7.00000     2.000000    15.000000   \n",
       "75%       22.445250     8.50000     3.000000    23.000000   \n",
       "max       49.650000    10.00000     3.000000    31.000000   \n",
       "\n",
       "       Electronic accessories  Fashion accessories  Food and beverages  \\\n",
       "count             1000.000000          1000.000000         1000.000000   \n",
       "mean                 0.170000             0.178000            0.174000   \n",
       "std                  0.375821             0.382704            0.379299   \n",
       "min                  0.000000             0.000000            0.000000   \n",
       "25%                  0.000000             0.000000            0.000000   \n",
       "50%                  0.000000             0.000000            0.000000   \n",
       "75%                  0.000000             0.000000            0.000000   \n",
       "max                  1.000000             1.000000            1.000000   \n",
       "\n",
       "       Health and beauty  Home and lifestyle  Sports and travel  \n",
       "count        1000.000000         1000.000000        1000.000000  \n",
       "mean            0.152000            0.160000           0.166000  \n",
       "std             0.359201            0.366789           0.372267  \n",
       "min             0.000000            0.000000           0.000000  \n",
       "25%             0.000000            0.000000           0.000000  \n",
       "50%             0.000000            0.000000           0.000000  \n",
       "75%             0.000000            0.000000           0.000000  \n",
       "max             1.000000            1.000000           1.000000  "
      ]
     },
     "execution_count": 54,
     "metadata": {},
     "output_type": "execute_result"
    }
   ],
   "source": [
    "data.describe()"
   ]
  },
  {
   "cell_type": "code",
   "execution_count": 61,
   "id": "858d41ae",
   "metadata": {},
   "outputs": [
    {
     "data": {
      "text/html": [
       "<div>\n",
       "<style scoped>\n",
       "    .dataframe tbody tr th:only-of-type {\n",
       "        vertical-align: middle;\n",
       "    }\n",
       "\n",
       "    .dataframe tbody tr th {\n",
       "        vertical-align: top;\n",
       "    }\n",
       "\n",
       "    .dataframe thead th {\n",
       "        text-align: right;\n",
       "    }\n",
       "</style>\n",
       "<table border=\"1\" class=\"dataframe\">\n",
       "  <thead>\n",
       "    <tr style=\"text-align: right;\">\n",
       "      <th></th>\n",
       "      <th>Branch</th>\n",
       "      <th>City</th>\n",
       "      <th>Customer type</th>\n",
       "      <th>Gender</th>\n",
       "      <th>Unit price</th>\n",
       "      <th>Quantity</th>\n",
       "      <th>Tax 5%</th>\n",
       "      <th>Total</th>\n",
       "      <th>Payment</th>\n",
       "      <th>cogs</th>\n",
       "      <th>gross income</th>\n",
       "      <th>Rating</th>\n",
       "      <th>Month</th>\n",
       "      <th>Day</th>\n",
       "      <th>Electronic accessories</th>\n",
       "      <th>Fashion accessories</th>\n",
       "      <th>Food and beverages</th>\n",
       "      <th>Health and beauty</th>\n",
       "      <th>Home and lifestyle</th>\n",
       "      <th>Sports and travel</th>\n",
       "    </tr>\n",
       "  </thead>\n",
       "  <tbody>\n",
       "    <tr>\n",
       "      <th>0</th>\n",
       "      <td>A</td>\n",
       "      <td>Yangon</td>\n",
       "      <td>Member</td>\n",
       "      <td>Female</td>\n",
       "      <td>74.69</td>\n",
       "      <td>7</td>\n",
       "      <td>26.1415</td>\n",
       "      <td>548.9715</td>\n",
       "      <td>Ewallet</td>\n",
       "      <td>522.83</td>\n",
       "      <td>26.1415</td>\n",
       "      <td>9.1</td>\n",
       "      <td>1</td>\n",
       "      <td>5</td>\n",
       "      <td>0</td>\n",
       "      <td>0</td>\n",
       "      <td>0</td>\n",
       "      <td>1</td>\n",
       "      <td>0</td>\n",
       "      <td>0</td>\n",
       "    </tr>\n",
       "    <tr>\n",
       "      <th>1</th>\n",
       "      <td>C</td>\n",
       "      <td>Naypyitaw</td>\n",
       "      <td>Normal</td>\n",
       "      <td>Female</td>\n",
       "      <td>15.28</td>\n",
       "      <td>5</td>\n",
       "      <td>3.8200</td>\n",
       "      <td>80.2200</td>\n",
       "      <td>Cash</td>\n",
       "      <td>76.40</td>\n",
       "      <td>3.8200</td>\n",
       "      <td>9.6</td>\n",
       "      <td>3</td>\n",
       "      <td>8</td>\n",
       "      <td>1</td>\n",
       "      <td>0</td>\n",
       "      <td>0</td>\n",
       "      <td>0</td>\n",
       "      <td>0</td>\n",
       "      <td>0</td>\n",
       "    </tr>\n",
       "    <tr>\n",
       "      <th>2</th>\n",
       "      <td>A</td>\n",
       "      <td>Yangon</td>\n",
       "      <td>Normal</td>\n",
       "      <td>Male</td>\n",
       "      <td>46.33</td>\n",
       "      <td>7</td>\n",
       "      <td>16.2155</td>\n",
       "      <td>340.5255</td>\n",
       "      <td>Credit card</td>\n",
       "      <td>324.31</td>\n",
       "      <td>16.2155</td>\n",
       "      <td>7.4</td>\n",
       "      <td>3</td>\n",
       "      <td>3</td>\n",
       "      <td>0</td>\n",
       "      <td>0</td>\n",
       "      <td>0</td>\n",
       "      <td>0</td>\n",
       "      <td>1</td>\n",
       "      <td>0</td>\n",
       "    </tr>\n",
       "    <tr>\n",
       "      <th>3</th>\n",
       "      <td>A</td>\n",
       "      <td>Yangon</td>\n",
       "      <td>Member</td>\n",
       "      <td>Male</td>\n",
       "      <td>58.22</td>\n",
       "      <td>8</td>\n",
       "      <td>23.2880</td>\n",
       "      <td>489.0480</td>\n",
       "      <td>Ewallet</td>\n",
       "      <td>465.76</td>\n",
       "      <td>23.2880</td>\n",
       "      <td>8.4</td>\n",
       "      <td>1</td>\n",
       "      <td>27</td>\n",
       "      <td>0</td>\n",
       "      <td>0</td>\n",
       "      <td>0</td>\n",
       "      <td>1</td>\n",
       "      <td>0</td>\n",
       "      <td>0</td>\n",
       "    </tr>\n",
       "    <tr>\n",
       "      <th>4</th>\n",
       "      <td>A</td>\n",
       "      <td>Yangon</td>\n",
       "      <td>Normal</td>\n",
       "      <td>Male</td>\n",
       "      <td>86.31</td>\n",
       "      <td>7</td>\n",
       "      <td>30.2085</td>\n",
       "      <td>634.3785</td>\n",
       "      <td>Ewallet</td>\n",
       "      <td>604.17</td>\n",
       "      <td>30.2085</td>\n",
       "      <td>5.3</td>\n",
       "      <td>2</td>\n",
       "      <td>8</td>\n",
       "      <td>0</td>\n",
       "      <td>0</td>\n",
       "      <td>0</td>\n",
       "      <td>0</td>\n",
       "      <td>0</td>\n",
       "      <td>1</td>\n",
       "    </tr>\n",
       "  </tbody>\n",
       "</table>\n",
       "</div>"
      ],
      "text/plain": [
       "  Branch       City Customer type  Gender  Unit price  Quantity   Tax 5%  \\\n",
       "0      A     Yangon        Member  Female       74.69         7  26.1415   \n",
       "1      C  Naypyitaw        Normal  Female       15.28         5   3.8200   \n",
       "2      A     Yangon        Normal    Male       46.33         7  16.2155   \n",
       "3      A     Yangon        Member    Male       58.22         8  23.2880   \n",
       "4      A     Yangon        Normal    Male       86.31         7  30.2085   \n",
       "\n",
       "      Total      Payment    cogs  gross income  Rating  Month  Day  \\\n",
       "0  548.9715      Ewallet  522.83       26.1415     9.1      1    5   \n",
       "1   80.2200         Cash   76.40        3.8200     9.6      3    8   \n",
       "2  340.5255  Credit card  324.31       16.2155     7.4      3    3   \n",
       "3  489.0480      Ewallet  465.76       23.2880     8.4      1   27   \n",
       "4  634.3785      Ewallet  604.17       30.2085     5.3      2    8   \n",
       "\n",
       "   Electronic accessories  Fashion accessories  Food and beverages  \\\n",
       "0                       0                    0                   0   \n",
       "1                       1                    0                   0   \n",
       "2                       0                    0                   0   \n",
       "3                       0                    0                   0   \n",
       "4                       0                    0                   0   \n",
       "\n",
       "   Health and beauty  Home and lifestyle  Sports and travel  \n",
       "0                  1                   0                  0  \n",
       "1                  0                   0                  0  \n",
       "2                  0                   1                  0  \n",
       "3                  1                   0                  0  \n",
       "4                  0                   0                  1  "
      ]
     },
     "execution_count": 61,
     "metadata": {},
     "output_type": "execute_result"
    }
   ],
   "source": [
    "data.head()"
   ]
  },
  {
   "cell_type": "code",
   "execution_count": 55,
   "id": "823d012b",
   "metadata": {},
   "outputs": [],
   "source": [
    "#Random forest Regressor"
   ]
  },
  {
   "cell_type": "markdown",
   "id": "4d96cfdc",
   "metadata": {},
   "source": [
    "Vaig estar aplicant durant molt de temps diversos models classificadors, però al ser un valor continuos no vaig poder entrenar-los ja que només puc amb models no-linears.\n",
    "\n",
    "Aleshores he aplicat l'entrenament amb el atribut objectiu Rating sobre diversos models no linears:\n",
    "- Random forest regressor\n",
    "- Support vector regressor"
   ]
  },
  {
   "cell_type": "markdown",
   "id": "d3f52f25",
   "metadata": {},
   "source": [
    "Començo aplicant el Random forest regressor "
   ]
  },
  {
   "cell_type": "code",
   "execution_count": 56,
   "id": "27ad1908",
   "metadata": {},
   "outputs": [],
   "source": [
    "#Features and Targets and Convert Data to Arrays\n",
    "# Labels are the values we want to predict\n",
    "labels = np.array(data['Rating'])\n",
    "\n",
    "features = data.drop('Rating', axis=1)# axis 1 refers to the columns\n",
    "\n",
    "# Saving feature names for later use\n",
    "feature_list = list(features.columns)\n",
    "\n",
    "#to np \n",
    "features = np.array(features)"
   ]
  },
  {
   "cell_type": "markdown",
   "id": "9d8b4b23",
   "metadata": {},
   "source": [
    "He agafat tots els camps del dataset com a features, i el Rating com a label."
   ]
  },
  {
   "cell_type": "markdown",
   "id": "d3994f29",
   "metadata": {},
   "source": [
    "Entreno les meves dades."
   ]
  },
  {
   "cell_type": "code",
   "execution_count": 57,
   "id": "08331ecf",
   "metadata": {},
   "outputs": [],
   "source": [
    "#Training and Testing sets"
   ]
  },
  {
   "cell_type": "code",
   "execution_count": 58,
   "id": "ddaa9d6b",
   "metadata": {},
   "outputs": [
    {
     "name": "stdout",
     "output_type": "stream",
     "text": [
      "(500, 19)\n",
      "(500, 19)\n",
      "(500,)\n",
      "(500,)\n"
     ]
    }
   ],
   "source": [
    "# Using Skicit-learn to split data into training and testing sets\n",
    "from sklearn.model_selection import train_test_split\n",
    "\n",
    "# Split the data into training and testing sets\n",
    "train_features, test_features, train_labels, test_labels = train_test_split(features, labels, test_size = 0.5, random_state = 42)\n",
    "\n",
    "#X_train, X_test, y_train, y_test = train_test_split(x, y,  test_size=0.5, random_state=42) \n",
    "# 42 results will be the same each time I run the split for reproducible results.\n",
    "print(train_features.shape)\n",
    "print(test_features.shape)\n",
    "print(train_labels.shape)\n",
    "print(test_labels.shape)"
   ]
  },
  {
   "cell_type": "markdown",
   "id": "f66ee8fe",
   "metadata": {},
   "source": [
    "Aplico com a mida dels test de 500 valors i un random state de 42."
   ]
  },
  {
   "cell_type": "code",
   "execution_count": 59,
   "id": "0489f4a2",
   "metadata": {},
   "outputs": [
    {
     "ename": "ValueError",
     "evalue": "could not convert string to float: 'B'",
     "output_type": "error",
     "traceback": [
      "\u001b[1;31m---------------------------------------------------------------------------\u001b[0m",
      "\u001b[1;31mValueError\u001b[0m                                Traceback (most recent call last)",
      "\u001b[1;32m<ipython-input-59-e083cc82b14e>\u001b[0m in \u001b[0;36m<module>\u001b[1;34m\u001b[0m\n\u001b[0;32m      2\u001b[0m \u001b[1;32mfrom\u001b[0m \u001b[0msklearn\u001b[0m\u001b[1;33m.\u001b[0m\u001b[0mensemble\u001b[0m \u001b[1;32mimport\u001b[0m \u001b[0mRandomForestRegressor\u001b[0m\u001b[1;31m# Instantiate model with 1000 decision trees\u001b[0m\u001b[1;33m\u001b[0m\u001b[1;33m\u001b[0m\u001b[0m\n\u001b[0;32m      3\u001b[0m \u001b[0mrf\u001b[0m \u001b[1;33m=\u001b[0m \u001b[0mRandomForestRegressor\u001b[0m\u001b[1;33m(\u001b[0m\u001b[0mn_estimators\u001b[0m \u001b[1;33m=\u001b[0m \u001b[1;36m1000\u001b[0m\u001b[1;33m,\u001b[0m \u001b[0mrandom_state\u001b[0m \u001b[1;33m=\u001b[0m \u001b[1;36m42\u001b[0m\u001b[1;33m)\u001b[0m\u001b[1;31m# Train the model on training data\u001b[0m\u001b[1;33m\u001b[0m\u001b[1;33m\u001b[0m\u001b[0m\n\u001b[1;32m----> 4\u001b[1;33m \u001b[0mrf\u001b[0m\u001b[1;33m.\u001b[0m\u001b[0mfit\u001b[0m\u001b[1;33m(\u001b[0m\u001b[0mtrain_features\u001b[0m\u001b[1;33m,\u001b[0m \u001b[0mtrain_labels\u001b[0m\u001b[1;33m)\u001b[0m\u001b[1;33m;\u001b[0m\u001b[1;33m\u001b[0m\u001b[1;33m\u001b[0m\u001b[0m\n\u001b[0m",
      "\u001b[1;32m~\\anaconda3\\lib\\site-packages\\sklearn\\ensemble\\_forest.py\u001b[0m in \u001b[0;36mfit\u001b[1;34m(self, X, y, sample_weight)\u001b[0m\n\u001b[0;32m    302\u001b[0m                 \u001b[1;34m\"sparse multilabel-indicator for y is not supported.\"\u001b[0m\u001b[1;33m\u001b[0m\u001b[1;33m\u001b[0m\u001b[0m\n\u001b[0;32m    303\u001b[0m             )\n\u001b[1;32m--> 304\u001b[1;33m         X, y = self._validate_data(X, y, multi_output=True,\n\u001b[0m\u001b[0;32m    305\u001b[0m                                    accept_sparse=\"csc\", dtype=DTYPE)\n\u001b[0;32m    306\u001b[0m         \u001b[1;32mif\u001b[0m \u001b[0msample_weight\u001b[0m \u001b[1;32mis\u001b[0m \u001b[1;32mnot\u001b[0m \u001b[1;32mNone\u001b[0m\u001b[1;33m:\u001b[0m\u001b[1;33m\u001b[0m\u001b[1;33m\u001b[0m\u001b[0m\n",
      "\u001b[1;32m~\\anaconda3\\lib\\site-packages\\sklearn\\base.py\u001b[0m in \u001b[0;36m_validate_data\u001b[1;34m(self, X, y, reset, validate_separately, **check_params)\u001b[0m\n\u001b[0;32m    431\u001b[0m                 \u001b[0my\u001b[0m \u001b[1;33m=\u001b[0m \u001b[0mcheck_array\u001b[0m\u001b[1;33m(\u001b[0m\u001b[0my\u001b[0m\u001b[1;33m,\u001b[0m \u001b[1;33m**\u001b[0m\u001b[0mcheck_y_params\u001b[0m\u001b[1;33m)\u001b[0m\u001b[1;33m\u001b[0m\u001b[1;33m\u001b[0m\u001b[0m\n\u001b[0;32m    432\u001b[0m             \u001b[1;32melse\u001b[0m\u001b[1;33m:\u001b[0m\u001b[1;33m\u001b[0m\u001b[1;33m\u001b[0m\u001b[0m\n\u001b[1;32m--> 433\u001b[1;33m                 \u001b[0mX\u001b[0m\u001b[1;33m,\u001b[0m \u001b[0my\u001b[0m \u001b[1;33m=\u001b[0m \u001b[0mcheck_X_y\u001b[0m\u001b[1;33m(\u001b[0m\u001b[0mX\u001b[0m\u001b[1;33m,\u001b[0m \u001b[0my\u001b[0m\u001b[1;33m,\u001b[0m \u001b[1;33m**\u001b[0m\u001b[0mcheck_params\u001b[0m\u001b[1;33m)\u001b[0m\u001b[1;33m\u001b[0m\u001b[1;33m\u001b[0m\u001b[0m\n\u001b[0m\u001b[0;32m    434\u001b[0m             \u001b[0mout\u001b[0m \u001b[1;33m=\u001b[0m \u001b[0mX\u001b[0m\u001b[1;33m,\u001b[0m \u001b[0my\u001b[0m\u001b[1;33m\u001b[0m\u001b[1;33m\u001b[0m\u001b[0m\n\u001b[0;32m    435\u001b[0m \u001b[1;33m\u001b[0m\u001b[0m\n",
      "\u001b[1;32m~\\anaconda3\\lib\\site-packages\\sklearn\\utils\\validation.py\u001b[0m in \u001b[0;36minner_f\u001b[1;34m(*args, **kwargs)\u001b[0m\n\u001b[0;32m     61\u001b[0m             \u001b[0mextra_args\u001b[0m \u001b[1;33m=\u001b[0m \u001b[0mlen\u001b[0m\u001b[1;33m(\u001b[0m\u001b[0margs\u001b[0m\u001b[1;33m)\u001b[0m \u001b[1;33m-\u001b[0m \u001b[0mlen\u001b[0m\u001b[1;33m(\u001b[0m\u001b[0mall_args\u001b[0m\u001b[1;33m)\u001b[0m\u001b[1;33m\u001b[0m\u001b[1;33m\u001b[0m\u001b[0m\n\u001b[0;32m     62\u001b[0m             \u001b[1;32mif\u001b[0m \u001b[0mextra_args\u001b[0m \u001b[1;33m<=\u001b[0m \u001b[1;36m0\u001b[0m\u001b[1;33m:\u001b[0m\u001b[1;33m\u001b[0m\u001b[1;33m\u001b[0m\u001b[0m\n\u001b[1;32m---> 63\u001b[1;33m                 \u001b[1;32mreturn\u001b[0m \u001b[0mf\u001b[0m\u001b[1;33m(\u001b[0m\u001b[1;33m*\u001b[0m\u001b[0margs\u001b[0m\u001b[1;33m,\u001b[0m \u001b[1;33m**\u001b[0m\u001b[0mkwargs\u001b[0m\u001b[1;33m)\u001b[0m\u001b[1;33m\u001b[0m\u001b[1;33m\u001b[0m\u001b[0m\n\u001b[0m\u001b[0;32m     64\u001b[0m \u001b[1;33m\u001b[0m\u001b[0m\n\u001b[0;32m     65\u001b[0m             \u001b[1;31m# extra_args > 0\u001b[0m\u001b[1;33m\u001b[0m\u001b[1;33m\u001b[0m\u001b[1;33m\u001b[0m\u001b[0m\n",
      "\u001b[1;32m~\\anaconda3\\lib\\site-packages\\sklearn\\utils\\validation.py\u001b[0m in \u001b[0;36mcheck_X_y\u001b[1;34m(X, y, accept_sparse, accept_large_sparse, dtype, order, copy, force_all_finite, ensure_2d, allow_nd, multi_output, ensure_min_samples, ensure_min_features, y_numeric, estimator)\u001b[0m\n\u001b[0;32m    812\u001b[0m         \u001b[1;32mraise\u001b[0m \u001b[0mValueError\u001b[0m\u001b[1;33m(\u001b[0m\u001b[1;34m\"y cannot be None\"\u001b[0m\u001b[1;33m)\u001b[0m\u001b[1;33m\u001b[0m\u001b[1;33m\u001b[0m\u001b[0m\n\u001b[0;32m    813\u001b[0m \u001b[1;33m\u001b[0m\u001b[0m\n\u001b[1;32m--> 814\u001b[1;33m     X = check_array(X, accept_sparse=accept_sparse,\n\u001b[0m\u001b[0;32m    815\u001b[0m                     \u001b[0maccept_large_sparse\u001b[0m\u001b[1;33m=\u001b[0m\u001b[0maccept_large_sparse\u001b[0m\u001b[1;33m,\u001b[0m\u001b[1;33m\u001b[0m\u001b[1;33m\u001b[0m\u001b[0m\n\u001b[0;32m    816\u001b[0m                     \u001b[0mdtype\u001b[0m\u001b[1;33m=\u001b[0m\u001b[0mdtype\u001b[0m\u001b[1;33m,\u001b[0m \u001b[0morder\u001b[0m\u001b[1;33m=\u001b[0m\u001b[0morder\u001b[0m\u001b[1;33m,\u001b[0m \u001b[0mcopy\u001b[0m\u001b[1;33m=\u001b[0m\u001b[0mcopy\u001b[0m\u001b[1;33m,\u001b[0m\u001b[1;33m\u001b[0m\u001b[1;33m\u001b[0m\u001b[0m\n",
      "\u001b[1;32m~\\anaconda3\\lib\\site-packages\\sklearn\\utils\\validation.py\u001b[0m in \u001b[0;36minner_f\u001b[1;34m(*args, **kwargs)\u001b[0m\n\u001b[0;32m     61\u001b[0m             \u001b[0mextra_args\u001b[0m \u001b[1;33m=\u001b[0m \u001b[0mlen\u001b[0m\u001b[1;33m(\u001b[0m\u001b[0margs\u001b[0m\u001b[1;33m)\u001b[0m \u001b[1;33m-\u001b[0m \u001b[0mlen\u001b[0m\u001b[1;33m(\u001b[0m\u001b[0mall_args\u001b[0m\u001b[1;33m)\u001b[0m\u001b[1;33m\u001b[0m\u001b[1;33m\u001b[0m\u001b[0m\n\u001b[0;32m     62\u001b[0m             \u001b[1;32mif\u001b[0m \u001b[0mextra_args\u001b[0m \u001b[1;33m<=\u001b[0m \u001b[1;36m0\u001b[0m\u001b[1;33m:\u001b[0m\u001b[1;33m\u001b[0m\u001b[1;33m\u001b[0m\u001b[0m\n\u001b[1;32m---> 63\u001b[1;33m                 \u001b[1;32mreturn\u001b[0m \u001b[0mf\u001b[0m\u001b[1;33m(\u001b[0m\u001b[1;33m*\u001b[0m\u001b[0margs\u001b[0m\u001b[1;33m,\u001b[0m \u001b[1;33m**\u001b[0m\u001b[0mkwargs\u001b[0m\u001b[1;33m)\u001b[0m\u001b[1;33m\u001b[0m\u001b[1;33m\u001b[0m\u001b[0m\n\u001b[0m\u001b[0;32m     64\u001b[0m \u001b[1;33m\u001b[0m\u001b[0m\n\u001b[0;32m     65\u001b[0m             \u001b[1;31m# extra_args > 0\u001b[0m\u001b[1;33m\u001b[0m\u001b[1;33m\u001b[0m\u001b[1;33m\u001b[0m\u001b[0m\n",
      "\u001b[1;32m~\\anaconda3\\lib\\site-packages\\sklearn\\utils\\validation.py\u001b[0m in \u001b[0;36mcheck_array\u001b[1;34m(array, accept_sparse, accept_large_sparse, dtype, order, copy, force_all_finite, ensure_2d, allow_nd, ensure_min_samples, ensure_min_features, estimator)\u001b[0m\n\u001b[0;32m    614\u001b[0m                     \u001b[0marray\u001b[0m \u001b[1;33m=\u001b[0m \u001b[0marray\u001b[0m\u001b[1;33m.\u001b[0m\u001b[0mastype\u001b[0m\u001b[1;33m(\u001b[0m\u001b[0mdtype\u001b[0m\u001b[1;33m,\u001b[0m \u001b[0mcasting\u001b[0m\u001b[1;33m=\u001b[0m\u001b[1;34m\"unsafe\"\u001b[0m\u001b[1;33m,\u001b[0m \u001b[0mcopy\u001b[0m\u001b[1;33m=\u001b[0m\u001b[1;32mFalse\u001b[0m\u001b[1;33m)\u001b[0m\u001b[1;33m\u001b[0m\u001b[1;33m\u001b[0m\u001b[0m\n\u001b[0;32m    615\u001b[0m                 \u001b[1;32melse\u001b[0m\u001b[1;33m:\u001b[0m\u001b[1;33m\u001b[0m\u001b[1;33m\u001b[0m\u001b[0m\n\u001b[1;32m--> 616\u001b[1;33m                     \u001b[0marray\u001b[0m \u001b[1;33m=\u001b[0m \u001b[0mnp\u001b[0m\u001b[1;33m.\u001b[0m\u001b[0masarray\u001b[0m\u001b[1;33m(\u001b[0m\u001b[0marray\u001b[0m\u001b[1;33m,\u001b[0m \u001b[0morder\u001b[0m\u001b[1;33m=\u001b[0m\u001b[0morder\u001b[0m\u001b[1;33m,\u001b[0m \u001b[0mdtype\u001b[0m\u001b[1;33m=\u001b[0m\u001b[0mdtype\u001b[0m\u001b[1;33m)\u001b[0m\u001b[1;33m\u001b[0m\u001b[1;33m\u001b[0m\u001b[0m\n\u001b[0m\u001b[0;32m    617\u001b[0m             \u001b[1;32mexcept\u001b[0m \u001b[0mComplexWarning\u001b[0m \u001b[1;32mas\u001b[0m \u001b[0mcomplex_warning\u001b[0m\u001b[1;33m:\u001b[0m\u001b[1;33m\u001b[0m\u001b[1;33m\u001b[0m\u001b[0m\n\u001b[0;32m    618\u001b[0m                 raise ValueError(\"Complex data not supported\\n\"\n",
      "\u001b[1;32m~\\anaconda3\\lib\\site-packages\\numpy\\core\\_asarray.py\u001b[0m in \u001b[0;36masarray\u001b[1;34m(a, dtype, order, like)\u001b[0m\n\u001b[0;32m    100\u001b[0m         \u001b[1;32mreturn\u001b[0m \u001b[0m_asarray_with_like\u001b[0m\u001b[1;33m(\u001b[0m\u001b[0ma\u001b[0m\u001b[1;33m,\u001b[0m \u001b[0mdtype\u001b[0m\u001b[1;33m=\u001b[0m\u001b[0mdtype\u001b[0m\u001b[1;33m,\u001b[0m \u001b[0morder\u001b[0m\u001b[1;33m=\u001b[0m\u001b[0morder\u001b[0m\u001b[1;33m,\u001b[0m \u001b[0mlike\u001b[0m\u001b[1;33m=\u001b[0m\u001b[0mlike\u001b[0m\u001b[1;33m)\u001b[0m\u001b[1;33m\u001b[0m\u001b[1;33m\u001b[0m\u001b[0m\n\u001b[0;32m    101\u001b[0m \u001b[1;33m\u001b[0m\u001b[0m\n\u001b[1;32m--> 102\u001b[1;33m     \u001b[1;32mreturn\u001b[0m \u001b[0marray\u001b[0m\u001b[1;33m(\u001b[0m\u001b[0ma\u001b[0m\u001b[1;33m,\u001b[0m \u001b[0mdtype\u001b[0m\u001b[1;33m,\u001b[0m \u001b[0mcopy\u001b[0m\u001b[1;33m=\u001b[0m\u001b[1;32mFalse\u001b[0m\u001b[1;33m,\u001b[0m \u001b[0morder\u001b[0m\u001b[1;33m=\u001b[0m\u001b[0morder\u001b[0m\u001b[1;33m)\u001b[0m\u001b[1;33m\u001b[0m\u001b[1;33m\u001b[0m\u001b[0m\n\u001b[0m\u001b[0;32m    103\u001b[0m \u001b[1;33m\u001b[0m\u001b[0m\n\u001b[0;32m    104\u001b[0m \u001b[1;33m\u001b[0m\u001b[0m\n",
      "\u001b[1;31mValueError\u001b[0m: could not convert string to float: 'B'"
     ]
    }
   ],
   "source": [
    "# Import the model we are using\n",
    "from sklearn.ensemble import RandomForestRegressor# Instantiate model with 1000 decision trees\n",
    "rf = RandomForestRegressor(n_estimators = 1000, random_state = 42)# Train the model on training data\n",
    "rf.fit(train_features, train_labels);"
   ]
  },
  {
   "cell_type": "markdown",
   "id": "e0ddaea4",
   "metadata": {},
   "source": [
    "Entreno el meu random regressor amb un numero de estimadors de 1000."
   ]
  },
  {
   "cell_type": "code",
   "execution_count": 60,
   "id": "7fb83fd8",
   "metadata": {},
   "outputs": [
    {
     "ename": "NotFittedError",
     "evalue": "This RandomForestRegressor instance is not fitted yet. Call 'fit' with appropriate arguments before using this estimator.",
     "output_type": "error",
     "traceback": [
      "\u001b[1;31m---------------------------------------------------------------------------\u001b[0m",
      "\u001b[1;31mNotFittedError\u001b[0m                            Traceback (most recent call last)",
      "\u001b[1;32m<ipython-input-60-1d53e3cdaee6>\u001b[0m in \u001b[0;36m<module>\u001b[1;34m\u001b[0m\n\u001b[1;32m----> 1\u001b[1;33m \u001b[0mrf\u001b[0m\u001b[1;33m.\u001b[0m\u001b[0mscore\u001b[0m\u001b[1;33m(\u001b[0m\u001b[0mtest_features\u001b[0m\u001b[1;33m,\u001b[0m \u001b[0mtest_labels\u001b[0m\u001b[1;33m)\u001b[0m\u001b[1;33m\u001b[0m\u001b[1;33m\u001b[0m\u001b[0m\n\u001b[0m",
      "\u001b[1;32m~\\anaconda3\\lib\\site-packages\\sklearn\\base.py\u001b[0m in \u001b[0;36mscore\u001b[1;34m(self, X, y, sample_weight)\u001b[0m\n\u001b[0;32m    551\u001b[0m \u001b[1;33m\u001b[0m\u001b[0m\n\u001b[0;32m    552\u001b[0m         \u001b[1;32mfrom\u001b[0m \u001b[1;33m.\u001b[0m\u001b[0mmetrics\u001b[0m \u001b[1;32mimport\u001b[0m \u001b[0mr2_score\u001b[0m\u001b[1;33m\u001b[0m\u001b[1;33m\u001b[0m\u001b[0m\n\u001b[1;32m--> 553\u001b[1;33m         \u001b[0my_pred\u001b[0m \u001b[1;33m=\u001b[0m \u001b[0mself\u001b[0m\u001b[1;33m.\u001b[0m\u001b[0mpredict\u001b[0m\u001b[1;33m(\u001b[0m\u001b[0mX\u001b[0m\u001b[1;33m)\u001b[0m\u001b[1;33m\u001b[0m\u001b[1;33m\u001b[0m\u001b[0m\n\u001b[0m\u001b[0;32m    554\u001b[0m         \u001b[1;32mreturn\u001b[0m \u001b[0mr2_score\u001b[0m\u001b[1;33m(\u001b[0m\u001b[0my\u001b[0m\u001b[1;33m,\u001b[0m \u001b[0my_pred\u001b[0m\u001b[1;33m,\u001b[0m \u001b[0msample_weight\u001b[0m\u001b[1;33m=\u001b[0m\u001b[0msample_weight\u001b[0m\u001b[1;33m)\u001b[0m\u001b[1;33m\u001b[0m\u001b[1;33m\u001b[0m\u001b[0m\n\u001b[0;32m    555\u001b[0m \u001b[1;33m\u001b[0m\u001b[0m\n",
      "\u001b[1;32m~\\anaconda3\\lib\\site-packages\\sklearn\\ensemble\\_forest.py\u001b[0m in \u001b[0;36mpredict\u001b[1;34m(self, X)\u001b[0m\n\u001b[0;32m    780\u001b[0m             \u001b[0mThe\u001b[0m \u001b[0mpredicted\u001b[0m \u001b[0mvalues\u001b[0m\u001b[1;33m.\u001b[0m\u001b[1;33m\u001b[0m\u001b[1;33m\u001b[0m\u001b[0m\n\u001b[0;32m    781\u001b[0m         \"\"\"\n\u001b[1;32m--> 782\u001b[1;33m         \u001b[0mcheck_is_fitted\u001b[0m\u001b[1;33m(\u001b[0m\u001b[0mself\u001b[0m\u001b[1;33m)\u001b[0m\u001b[1;33m\u001b[0m\u001b[1;33m\u001b[0m\u001b[0m\n\u001b[0m\u001b[0;32m    783\u001b[0m         \u001b[1;31m# Check data\u001b[0m\u001b[1;33m\u001b[0m\u001b[1;33m\u001b[0m\u001b[1;33m\u001b[0m\u001b[0m\n\u001b[0;32m    784\u001b[0m         \u001b[0mX\u001b[0m \u001b[1;33m=\u001b[0m \u001b[0mself\u001b[0m\u001b[1;33m.\u001b[0m\u001b[0m_validate_X_predict\u001b[0m\u001b[1;33m(\u001b[0m\u001b[0mX\u001b[0m\u001b[1;33m)\u001b[0m\u001b[1;33m\u001b[0m\u001b[1;33m\u001b[0m\u001b[0m\n",
      "\u001b[1;32m~\\anaconda3\\lib\\site-packages\\sklearn\\utils\\validation.py\u001b[0m in \u001b[0;36minner_f\u001b[1;34m(*args, **kwargs)\u001b[0m\n\u001b[0;32m     61\u001b[0m             \u001b[0mextra_args\u001b[0m \u001b[1;33m=\u001b[0m \u001b[0mlen\u001b[0m\u001b[1;33m(\u001b[0m\u001b[0margs\u001b[0m\u001b[1;33m)\u001b[0m \u001b[1;33m-\u001b[0m \u001b[0mlen\u001b[0m\u001b[1;33m(\u001b[0m\u001b[0mall_args\u001b[0m\u001b[1;33m)\u001b[0m\u001b[1;33m\u001b[0m\u001b[1;33m\u001b[0m\u001b[0m\n\u001b[0;32m     62\u001b[0m             \u001b[1;32mif\u001b[0m \u001b[0mextra_args\u001b[0m \u001b[1;33m<=\u001b[0m \u001b[1;36m0\u001b[0m\u001b[1;33m:\u001b[0m\u001b[1;33m\u001b[0m\u001b[1;33m\u001b[0m\u001b[0m\n\u001b[1;32m---> 63\u001b[1;33m                 \u001b[1;32mreturn\u001b[0m \u001b[0mf\u001b[0m\u001b[1;33m(\u001b[0m\u001b[1;33m*\u001b[0m\u001b[0margs\u001b[0m\u001b[1;33m,\u001b[0m \u001b[1;33m**\u001b[0m\u001b[0mkwargs\u001b[0m\u001b[1;33m)\u001b[0m\u001b[1;33m\u001b[0m\u001b[1;33m\u001b[0m\u001b[0m\n\u001b[0m\u001b[0;32m     64\u001b[0m \u001b[1;33m\u001b[0m\u001b[0m\n\u001b[0;32m     65\u001b[0m             \u001b[1;31m# extra_args > 0\u001b[0m\u001b[1;33m\u001b[0m\u001b[1;33m\u001b[0m\u001b[1;33m\u001b[0m\u001b[0m\n",
      "\u001b[1;32m~\\anaconda3\\lib\\site-packages\\sklearn\\utils\\validation.py\u001b[0m in \u001b[0;36mcheck_is_fitted\u001b[1;34m(estimator, attributes, msg, all_or_any)\u001b[0m\n\u001b[0;32m   1039\u001b[0m \u001b[1;33m\u001b[0m\u001b[0m\n\u001b[0;32m   1040\u001b[0m     \u001b[1;32mif\u001b[0m \u001b[1;32mnot\u001b[0m \u001b[0mattrs\u001b[0m\u001b[1;33m:\u001b[0m\u001b[1;33m\u001b[0m\u001b[1;33m\u001b[0m\u001b[0m\n\u001b[1;32m-> 1041\u001b[1;33m         \u001b[1;32mraise\u001b[0m \u001b[0mNotFittedError\u001b[0m\u001b[1;33m(\u001b[0m\u001b[0mmsg\u001b[0m \u001b[1;33m%\u001b[0m \u001b[1;33m{\u001b[0m\u001b[1;34m'name'\u001b[0m\u001b[1;33m:\u001b[0m \u001b[0mtype\u001b[0m\u001b[1;33m(\u001b[0m\u001b[0mestimator\u001b[0m\u001b[1;33m)\u001b[0m\u001b[1;33m.\u001b[0m\u001b[0m__name__\u001b[0m\u001b[1;33m}\u001b[0m\u001b[1;33m)\u001b[0m\u001b[1;33m\u001b[0m\u001b[1;33m\u001b[0m\u001b[0m\n\u001b[0m\u001b[0;32m   1042\u001b[0m \u001b[1;33m\u001b[0m\u001b[0m\n\u001b[0;32m   1043\u001b[0m \u001b[1;33m\u001b[0m\u001b[0m\n",
      "\u001b[1;31mNotFittedError\u001b[0m: This RandomForestRegressor instance is not fitted yet. Call 'fit' with appropriate arguments before using this estimator."
     ]
    }
   ],
   "source": [
    "rf.score(test_features, test_labels)"
   ]
  },
  {
   "cell_type": "markdown",
   "id": "fdfc0d2d",
   "metadata": {},
   "source": [
    "La score del model és molt dolenta. Hauria de ser positiva i el màxim de pròxima de 1. Això vol dir que el model és dolent i no encerta bé les dades."
   ]
  },
  {
   "cell_type": "code",
   "execution_count": 283,
   "id": "27e3c1a5",
   "metadata": {},
   "outputs": [
    {
     "name": "stdout",
     "output_type": "stream",
     "text": [
      "Mean Absolute Error: 1.55\n"
     ]
    }
   ],
   "source": [
    "# Use the forest's predict method on the test data\n",
    "predictions = rf.predict(test_features)# Calculate the absolute errors\n",
    "#print(predictions)\n",
    "errors = abs(predictions - test_labels)# Print out the mean absolute error (mae)\n",
    "print('Mean Absolute Error:', round(np.mean(errors), 2))"
   ]
  },
  {
   "cell_type": "code",
   "execution_count": 51,
   "id": "156c3f97",
   "metadata": {},
   "outputs": [
    {
     "name": "stdout",
     "output_type": "stream",
     "text": [
      "Accuracy: 74.98 %.\n"
     ]
    }
   ],
   "source": [
    "# Calculate mean absolute percentage error (MAPE)\n",
    "mape = 100 * (errors / test_labels)# Calculate and display accuracy\n",
    "accuracy = 100 - np.mean(mape)\n",
    "print('Accuracy:', round(accuracy, 2), '%.')"
   ]
  },
  {
   "cell_type": "markdown",
   "id": "d7c8bfe0",
   "metadata": {},
   "source": [
    "Tot i així té una accuracy alta segons el càlcul anterior realitzat. "
   ]
  },
  {
   "cell_type": "markdown",
   "id": "2d68ea81",
   "metadata": {},
   "source": [
    "He mirat la importancia que han tingut els valors respecte el meu model. "
   ]
  },
  {
   "cell_type": "code",
   "execution_count": 52,
   "id": "1c209096",
   "metadata": {},
   "outputs": [
    {
     "name": "stdout",
     "output_type": "stream",
     "text": [
      "Variable: Unit price           Importance: 0.21\n",
      "Variable: Day                  Importance: 0.17\n",
      "Variable: Tax 5%               Importance: 0.07\n",
      "Variable: Total                Importance: 0.07\n",
      "Variable: cogs                 Importance: 0.07\n",
      "Variable: gross income         Importance: 0.07\n",
      "Variable: Quantity             Importance: 0.06\n",
      "Variable: Month                Importance: 0.05\n",
      "Variable: Payment              Importance: 0.04\n",
      "Variable: Branch               Importance: 0.03\n",
      "Variable: City                 Importance: 0.03\n",
      "Variable: Gender               Importance: 0.03\n",
      "Variable: Customer type        Importance: 0.02\n",
      "Variable: Fashion accessories  Importance: 0.02\n",
      "Variable: Food and beverages   Importance: 0.02\n",
      "Variable: Health and beauty    Importance: 0.02\n",
      "Variable: Home and lifestyle   Importance: 0.02\n",
      "Variable: Sports and travel    Importance: 0.02\n",
      "Variable: Electronic accessories Importance: 0.01\n",
      "Variable: Year                 Importance: 0.0\n"
     ]
    }
   ],
   "source": [
    "# Get numerical feature importances\n",
    "importances = list(rf.feature_importances_)# List of tuples with variable and importance\n",
    "feature_importances = [(feature, round(importance, 2)) for feature, importance in zip(feature_list, importances)]# Sort the feature importances by most important first\n",
    "feature_importances = sorted(feature_importances, key = lambda x: x[1], reverse = True)# Print out the feature and importances \n",
    "[print('Variable: {:20} Importance: {}'.format(*pair)) for pair in feature_importances];"
   ]
  },
  {
   "cell_type": "markdown",
   "id": "919e5f8b",
   "metadata": {},
   "source": [
    "S'observa que el camp amb una importancia més alta és el Unit price, seguit del Dia. Son els camps més influents. "
   ]
  },
  {
   "cell_type": "code",
   "execution_count": 53,
   "id": "43876419",
   "metadata": {},
   "outputs": [
    {
     "data": {
      "image/png": "[encoded data removed]",
      "text/plain": [
       "<Figure size 432x288 with 1 Axes>"
      ]
     },
     "metadata": {},
     "output_type": "display_data"
    }
   ],
   "source": [
    "# Import matplotlib for plotting and use magic command for Jupyter Notebooks\n",
    "import matplotlib.pyplot as plt\n",
    "#%matplotlib inline# Set the style\n",
    "plt.style.use('fivethirtyeight')# list of x locations for plotting\n",
    "x_values = list(range(len(importances)))# Make a bar chart\n",
    "plt.bar(x_values, importances, orientation = 'vertical')# Tick labels for x axis\n",
    "plt.xticks(x_values, feature_list, rotation='vertical')# Axis labels and title\n",
    "plt.ylabel('Importance'); plt.xlabel('Variable'); plt.title('Variable Importances');"
   ]
  },
  {
   "cell_type": "markdown",
   "id": "c5e465b3",
   "metadata": {},
   "source": [
    "Ho imprimeixo en forma de gràfic per visualitzaar millor l'impacte que han tingut."
   ]
  },
  {
   "cell_type": "code",
   "execution_count": 54,
   "id": "e8cf4313",
   "metadata": {},
   "outputs": [
    {
     "data": {
      "image/png": "[encoded data removed]",
      "text/plain": [
       "<Figure size 432x288 with 1 Axes>"
      ]
     },
     "metadata": {},
     "output_type": "display_data"
    }
   ],
   "source": [
    "# Use datetime for creating date objects for plotting\n",
    "import datetime\n",
    "# Dates of training values\n",
    "months = features[:, feature_list.index('Month')]\n",
    "days = features[:, feature_list.index('Day')]\n",
    "years = features[:, feature_list.index('Year')]\n",
    "# List and then convert to datetime object\n",
    "dates = [str(int(year)) + '-' + str(int(month)) + '-' + str(int(day)) for year, month, day in zip(years, months, days)]\n",
    "dates = [datetime.datetime.strptime(date, '%Y-%m-%d') for date in dates]\n",
    "# Dataframe with true values and dates\n",
    "true_data = pd.DataFrame(data = {'date': dates, 'actual': labels})\n",
    "# Dates of predictions\n",
    "months = test_features[:, feature_list.index('Month')]\n",
    "days = test_features[:, feature_list.index('Day')]\n",
    "years = test_features[:, feature_list.index('Year')]\n",
    "# Column of dates\n",
    "test_dates = [str(int(year)) + '-' + str(int(month)) + '-' + str(int(day)) for year, month, day in zip(years, months, days)]# Convert to datetime objects\n",
    "test_dates = [datetime.datetime.strptime(date, '%Y-%m-%d') for date in test_dates]\n",
    "# Dataframe with predictions and dates\n",
    "predictions_data = pd.DataFrame(data = {'date': test_dates, 'prediction': predictions})\n",
    "# Plot the actual values\n",
    "plt.plot(true_data['date'], true_data['actual'], 'bo', label = 'actual')\n",
    "# Plot the predicted values\n",
    "plt.plot(predictions_data['date'], predictions_data['prediction'], 'ro', label = 'prediction')\n",
    "plt.xticks(rotation = '60'); \n",
    "plt.legend()\n",
    "# Graph labels\n",
    "plt.xlabel('Date'); plt.ylabel('Ratings'); plt.title('Actual and Predicted Values');"
   ]
  },
  {
   "cell_type": "markdown",
   "id": "ee3cf29e",
   "metadata": {},
   "source": [
    "Imprimeixo els valors que ha predit el meu model sobre els valors que tenen el meu dataset per observar quin ha sigut el resultat."
   ]
  },
  {
   "cell_type": "code",
   "execution_count": 55,
   "id": "5cee4f7b",
   "metadata": {},
   "outputs": [],
   "source": [
    "#Support Vector Regressor (SVR)"
   ]
  },
  {
   "cell_type": "markdown",
   "id": "0c15675c",
   "metadata": {},
   "source": [
    "Per al support vector regressor aplico les mateixes dades per a x i y."
   ]
  },
  {
   "cell_type": "code",
   "execution_count": 58,
   "id": "05b7283f",
   "metadata": {},
   "outputs": [],
   "source": [
    "#Features and Targets and Convert Data to Arrays\n",
    "# Labels are the values we want to predict\n",
    "labels = np.array(data['Rating']) #y\n",
    "features = data.drop('Rating', axis=1)# axis 1 refers to the columns\n",
    "\n",
    "# Saving feature names for later use\n",
    "feature_list = list(features.columns)\n",
    "\n",
    "#to np \n",
    "features = np.array(features)"
   ]
  },
  {
   "cell_type": "markdown",
   "id": "dd6bd20a",
   "metadata": {},
   "source": [
    "En aquest model estandaritzo els valors ja que és molt recomenable."
   ]
  },
  {
   "cell_type": "code",
   "execution_count": 284,
   "id": "6d967c29",
   "metadata": {},
   "outputs": [
    {
     "ename": "ValueError",
     "evalue": "could not convert string to float: 'Customer type'",
     "output_type": "error",
     "traceback": [
      "\u001b[1;31m---------------------------------------------------------------------------\u001b[0m",
      "\u001b[1;31mValueError\u001b[0m                                Traceback (most recent call last)",
      "\u001b[1;32m<ipython-input-284-f063be85f506>\u001b[0m in \u001b[0;36m<module>\u001b[1;34m\u001b[0m\n\u001b[0;32m      1\u001b[0m \u001b[1;32mfrom\u001b[0m \u001b[0msklearn\u001b[0m\u001b[1;33m.\u001b[0m\u001b[0mpreprocessing\u001b[0m \u001b[1;32mimport\u001b[0m \u001b[0mStandardScaler\u001b[0m\u001b[1;33m\u001b[0m\u001b[1;33m\u001b[0m\u001b[0m\n\u001b[1;32m----> 2\u001b[1;33m \u001b[0mfeatures_std\u001b[0m \u001b[1;33m=\u001b[0m \u001b[0mStandardScaler\u001b[0m\u001b[1;33m(\u001b[0m\u001b[1;33m)\u001b[0m\u001b[1;33m.\u001b[0m\u001b[0mfit\u001b[0m\u001b[1;33m(\u001b[0m\u001b[0mfeatures\u001b[0m\u001b[1;33m)\u001b[0m\u001b[1;33m.\u001b[0m\u001b[0mtransform\u001b[0m\u001b[1;33m(\u001b[0m\u001b[0mfeatures\u001b[0m\u001b[1;33m)\u001b[0m\u001b[1;33m\u001b[0m\u001b[1;33m\u001b[0m\u001b[0m\n\u001b[0m",
      "\u001b[1;32m~\\anaconda3\\lib\\site-packages\\sklearn\\preprocessing\\_data.py\u001b[0m in \u001b[0;36mfit\u001b[1;34m(self, X, y, sample_weight)\u001b[0m\n\u001b[0;32m    728\u001b[0m         \u001b[1;31m# Reset internal state before fitting\u001b[0m\u001b[1;33m\u001b[0m\u001b[1;33m\u001b[0m\u001b[1;33m\u001b[0m\u001b[0m\n\u001b[0;32m    729\u001b[0m         \u001b[0mself\u001b[0m\u001b[1;33m.\u001b[0m\u001b[0m_reset\u001b[0m\u001b[1;33m(\u001b[0m\u001b[1;33m)\u001b[0m\u001b[1;33m\u001b[0m\u001b[1;33m\u001b[0m\u001b[0m\n\u001b[1;32m--> 730\u001b[1;33m         \u001b[1;32mreturn\u001b[0m \u001b[0mself\u001b[0m\u001b[1;33m.\u001b[0m\u001b[0mpartial_fit\u001b[0m\u001b[1;33m(\u001b[0m\u001b[0mX\u001b[0m\u001b[1;33m,\u001b[0m \u001b[0my\u001b[0m\u001b[1;33m,\u001b[0m \u001b[0msample_weight\u001b[0m\u001b[1;33m)\u001b[0m\u001b[1;33m\u001b[0m\u001b[1;33m\u001b[0m\u001b[0m\n\u001b[0m\u001b[0;32m    731\u001b[0m \u001b[1;33m\u001b[0m\u001b[0m\n\u001b[0;32m    732\u001b[0m     \u001b[1;32mdef\u001b[0m \u001b[0mpartial_fit\u001b[0m\u001b[1;33m(\u001b[0m\u001b[0mself\u001b[0m\u001b[1;33m,\u001b[0m \u001b[0mX\u001b[0m\u001b[1;33m,\u001b[0m \u001b[0my\u001b[0m\u001b[1;33m=\u001b[0m\u001b[1;32mNone\u001b[0m\u001b[1;33m,\u001b[0m \u001b[0msample_weight\u001b[0m\u001b[1;33m=\u001b[0m\u001b[1;32mNone\u001b[0m\u001b[1;33m)\u001b[0m\u001b[1;33m:\u001b[0m\u001b[1;33m\u001b[0m\u001b[1;33m\u001b[0m\u001b[0m\n",
      "\u001b[1;32m~\\anaconda3\\lib\\site-packages\\sklearn\\preprocessing\\_data.py\u001b[0m in \u001b[0;36mpartial_fit\u001b[1;34m(self, X, y, sample_weight)\u001b[0m\n\u001b[0;32m    764\u001b[0m         \"\"\"\n\u001b[0;32m    765\u001b[0m         \u001b[0mfirst_call\u001b[0m \u001b[1;33m=\u001b[0m \u001b[1;32mnot\u001b[0m \u001b[0mhasattr\u001b[0m\u001b[1;33m(\u001b[0m\u001b[0mself\u001b[0m\u001b[1;33m,\u001b[0m \u001b[1;34m\"n_samples_seen_\"\u001b[0m\u001b[1;33m)\u001b[0m\u001b[1;33m\u001b[0m\u001b[1;33m\u001b[0m\u001b[0m\n\u001b[1;32m--> 766\u001b[1;33m         X = self._validate_data(X, accept_sparse=('csr', 'csc'),\n\u001b[0m\u001b[0;32m    767\u001b[0m                                 \u001b[0mestimator\u001b[0m\u001b[1;33m=\u001b[0m\u001b[0mself\u001b[0m\u001b[1;33m,\u001b[0m \u001b[0mdtype\u001b[0m\u001b[1;33m=\u001b[0m\u001b[0mFLOAT_DTYPES\u001b[0m\u001b[1;33m,\u001b[0m\u001b[1;33m\u001b[0m\u001b[1;33m\u001b[0m\u001b[0m\n\u001b[0;32m    768\u001b[0m                                 force_all_finite='allow-nan', reset=first_call)\n",
      "\u001b[1;32m~\\anaconda3\\lib\\site-packages\\sklearn\\base.py\u001b[0m in \u001b[0;36m_validate_data\u001b[1;34m(self, X, y, reset, validate_separately, **check_params)\u001b[0m\n\u001b[0;32m    419\u001b[0m             \u001b[0mout\u001b[0m \u001b[1;33m=\u001b[0m \u001b[0mX\u001b[0m\u001b[1;33m\u001b[0m\u001b[1;33m\u001b[0m\u001b[0m\n\u001b[0;32m    420\u001b[0m         \u001b[1;32melif\u001b[0m \u001b[0misinstance\u001b[0m\u001b[1;33m(\u001b[0m\u001b[0my\u001b[0m\u001b[1;33m,\u001b[0m \u001b[0mstr\u001b[0m\u001b[1;33m)\u001b[0m \u001b[1;32mand\u001b[0m \u001b[0my\u001b[0m \u001b[1;33m==\u001b[0m \u001b[1;34m'no_validation'\u001b[0m\u001b[1;33m:\u001b[0m\u001b[1;33m\u001b[0m\u001b[1;33m\u001b[0m\u001b[0m\n\u001b[1;32m--> 421\u001b[1;33m             \u001b[0mX\u001b[0m \u001b[1;33m=\u001b[0m \u001b[0mcheck_array\u001b[0m\u001b[1;33m(\u001b[0m\u001b[0mX\u001b[0m\u001b[1;33m,\u001b[0m \u001b[1;33m**\u001b[0m\u001b[0mcheck_params\u001b[0m\u001b[1;33m)\u001b[0m\u001b[1;33m\u001b[0m\u001b[1;33m\u001b[0m\u001b[0m\n\u001b[0m\u001b[0;32m    422\u001b[0m             \u001b[0mout\u001b[0m \u001b[1;33m=\u001b[0m \u001b[0mX\u001b[0m\u001b[1;33m\u001b[0m\u001b[1;33m\u001b[0m\u001b[0m\n\u001b[0;32m    423\u001b[0m         \u001b[1;32melse\u001b[0m\u001b[1;33m:\u001b[0m\u001b[1;33m\u001b[0m\u001b[1;33m\u001b[0m\u001b[0m\n",
      "\u001b[1;32m~\\anaconda3\\lib\\site-packages\\sklearn\\utils\\validation.py\u001b[0m in \u001b[0;36minner_f\u001b[1;34m(*args, **kwargs)\u001b[0m\n\u001b[0;32m     61\u001b[0m             \u001b[0mextra_args\u001b[0m \u001b[1;33m=\u001b[0m \u001b[0mlen\u001b[0m\u001b[1;33m(\u001b[0m\u001b[0margs\u001b[0m\u001b[1;33m)\u001b[0m \u001b[1;33m-\u001b[0m \u001b[0mlen\u001b[0m\u001b[1;33m(\u001b[0m\u001b[0mall_args\u001b[0m\u001b[1;33m)\u001b[0m\u001b[1;33m\u001b[0m\u001b[1;33m\u001b[0m\u001b[0m\n\u001b[0;32m     62\u001b[0m             \u001b[1;32mif\u001b[0m \u001b[0mextra_args\u001b[0m \u001b[1;33m<=\u001b[0m \u001b[1;36m0\u001b[0m\u001b[1;33m:\u001b[0m\u001b[1;33m\u001b[0m\u001b[1;33m\u001b[0m\u001b[0m\n\u001b[1;32m---> 63\u001b[1;33m                 \u001b[1;32mreturn\u001b[0m \u001b[0mf\u001b[0m\u001b[1;33m(\u001b[0m\u001b[1;33m*\u001b[0m\u001b[0margs\u001b[0m\u001b[1;33m,\u001b[0m \u001b[1;33m**\u001b[0m\u001b[0mkwargs\u001b[0m\u001b[1;33m)\u001b[0m\u001b[1;33m\u001b[0m\u001b[1;33m\u001b[0m\u001b[0m\n\u001b[0m\u001b[0;32m     64\u001b[0m \u001b[1;33m\u001b[0m\u001b[0m\n\u001b[0;32m     65\u001b[0m             \u001b[1;31m# extra_args > 0\u001b[0m\u001b[1;33m\u001b[0m\u001b[1;33m\u001b[0m\u001b[1;33m\u001b[0m\u001b[0m\n",
      "\u001b[1;32m~\\anaconda3\\lib\\site-packages\\sklearn\\utils\\validation.py\u001b[0m in \u001b[0;36mcheck_array\u001b[1;34m(array, accept_sparse, accept_large_sparse, dtype, order, copy, force_all_finite, ensure_2d, allow_nd, ensure_min_samples, ensure_min_features, estimator)\u001b[0m\n\u001b[0;32m    614\u001b[0m                     \u001b[0marray\u001b[0m \u001b[1;33m=\u001b[0m \u001b[0marray\u001b[0m\u001b[1;33m.\u001b[0m\u001b[0mastype\u001b[0m\u001b[1;33m(\u001b[0m\u001b[0mdtype\u001b[0m\u001b[1;33m,\u001b[0m \u001b[0mcasting\u001b[0m\u001b[1;33m=\u001b[0m\u001b[1;34m\"unsafe\"\u001b[0m\u001b[1;33m,\u001b[0m \u001b[0mcopy\u001b[0m\u001b[1;33m=\u001b[0m\u001b[1;32mFalse\u001b[0m\u001b[1;33m)\u001b[0m\u001b[1;33m\u001b[0m\u001b[1;33m\u001b[0m\u001b[0m\n\u001b[0;32m    615\u001b[0m                 \u001b[1;32melse\u001b[0m\u001b[1;33m:\u001b[0m\u001b[1;33m\u001b[0m\u001b[1;33m\u001b[0m\u001b[0m\n\u001b[1;32m--> 616\u001b[1;33m                     \u001b[0marray\u001b[0m \u001b[1;33m=\u001b[0m \u001b[0mnp\u001b[0m\u001b[1;33m.\u001b[0m\u001b[0masarray\u001b[0m\u001b[1;33m(\u001b[0m\u001b[0marray\u001b[0m\u001b[1;33m,\u001b[0m \u001b[0morder\u001b[0m\u001b[1;33m=\u001b[0m\u001b[0morder\u001b[0m\u001b[1;33m,\u001b[0m \u001b[0mdtype\u001b[0m\u001b[1;33m=\u001b[0m\u001b[0mdtype\u001b[0m\u001b[1;33m)\u001b[0m\u001b[1;33m\u001b[0m\u001b[1;33m\u001b[0m\u001b[0m\n\u001b[0m\u001b[0;32m    617\u001b[0m             \u001b[1;32mexcept\u001b[0m \u001b[0mComplexWarning\u001b[0m \u001b[1;32mas\u001b[0m \u001b[0mcomplex_warning\u001b[0m\u001b[1;33m:\u001b[0m\u001b[1;33m\u001b[0m\u001b[1;33m\u001b[0m\u001b[0m\n\u001b[0;32m    618\u001b[0m                 raise ValueError(\"Complex data not supported\\n\"\n",
      "\u001b[1;32m~\\anaconda3\\lib\\site-packages\\numpy\\core\\_asarray.py\u001b[0m in \u001b[0;36masarray\u001b[1;34m(a, dtype, order, like)\u001b[0m\n\u001b[0;32m    100\u001b[0m         \u001b[1;32mreturn\u001b[0m \u001b[0m_asarray_with_like\u001b[0m\u001b[1;33m(\u001b[0m\u001b[0ma\u001b[0m\u001b[1;33m,\u001b[0m \u001b[0mdtype\u001b[0m\u001b[1;33m=\u001b[0m\u001b[0mdtype\u001b[0m\u001b[1;33m,\u001b[0m \u001b[0morder\u001b[0m\u001b[1;33m=\u001b[0m\u001b[0morder\u001b[0m\u001b[1;33m,\u001b[0m \u001b[0mlike\u001b[0m\u001b[1;33m=\u001b[0m\u001b[0mlike\u001b[0m\u001b[1;33m)\u001b[0m\u001b[1;33m\u001b[0m\u001b[1;33m\u001b[0m\u001b[0m\n\u001b[0;32m    101\u001b[0m \u001b[1;33m\u001b[0m\u001b[0m\n\u001b[1;32m--> 102\u001b[1;33m     \u001b[1;32mreturn\u001b[0m \u001b[0marray\u001b[0m\u001b[1;33m(\u001b[0m\u001b[0ma\u001b[0m\u001b[1;33m,\u001b[0m \u001b[0mdtype\u001b[0m\u001b[1;33m,\u001b[0m \u001b[0mcopy\u001b[0m\u001b[1;33m=\u001b[0m\u001b[1;32mFalse\u001b[0m\u001b[1;33m,\u001b[0m \u001b[0morder\u001b[0m\u001b[1;33m=\u001b[0m\u001b[0morder\u001b[0m\u001b[1;33m)\u001b[0m\u001b[1;33m\u001b[0m\u001b[1;33m\u001b[0m\u001b[0m\n\u001b[0m\u001b[0;32m    103\u001b[0m \u001b[1;33m\u001b[0m\u001b[0m\n\u001b[0;32m    104\u001b[0m \u001b[1;33m\u001b[0m\u001b[0m\n",
      "\u001b[1;31mValueError\u001b[0m: could not convert string to float: 'Customer type'"
     ]
    }
   ],
   "source": [
    "from sklearn.preprocessing import StandardScaler\n",
    "features_std = StandardScaler().fit(features).transform(features)\n"
   ]
  },
  {
   "cell_type": "code",
   "execution_count": 61,
   "id": "83307c38",
   "metadata": {},
   "outputs": [
    {
     "name": "stdout",
     "output_type": "stream",
     "text": [
      "(750, 20)\n",
      "(250, 20)\n",
      "(750,)\n",
      "(250,)\n"
     ]
    }
   ],
   "source": [
    "# Using Skicit-learn to split data into training and testing sets\n",
    "from sklearn.model_selection import train_test_split\n",
    "\n",
    "# Split the data into training and testing sets\n",
    "train_features, test_features, train_labels, test_labels = train_test_split(features_std, labels, test_size = 0.5, random_state = 42)\n",
    "\n",
    "#X_train, X_test, y_train, y_test = train_test_split(x, y,  test_size=0.5, random_state=42) \n",
    "# 42 results will be the same each time I run the split for reproducible results.\n",
    "print(train_features.shape)\n",
    "print(test_features.shape)\n",
    "print(train_labels.shape)\n",
    "print(test_labels.shape)"
   ]
  },
  {
   "cell_type": "markdown",
   "id": "800dc553",
   "metadata": {},
   "source": [
    "Divideixo les dades amb una mida del test de 500 i random state de 42."
   ]
  },
  {
   "cell_type": "code",
   "execution_count": 62,
   "id": "605ebd69",
   "metadata": {},
   "outputs": [
    {
     "name": "stdout",
     "output_type": "stream",
     "text": [
      "-0.14849177368636668\n"
     ]
    }
   ],
   "source": [
    "# import the model\n",
    "from sklearn.svm import SVR\n",
    "# create the model object\n",
    "svr = SVR(kernel = 'rbf', max_iter=10000) ##gaussian type #‘linear’, ‘poly’, ‘rbf’, ‘sigmoid’\n",
    "\n",
    "# fit the model on the data\n",
    "svr.fit(train_features, train_labels) #X y\n",
    "\n",
    "print(svr.score(test_features, test_labels))\n",
    "y_pred = svr.predict(test_features)"
   ]
  },
  {
   "cell_type": "markdown",
   "id": "392422e5",
   "metadata": {},
   "source": [
    "Entreno el model amb les dades. També em dona un valor negatiu, per tant molt dolent i vol dir que el meu model Support Vector Regressor tampoc és bo. "
   ]
  },
  {
   "cell_type": "markdown",
   "id": "2464cb1d",
   "metadata": {},
   "source": [
    "Conclusió : Amb el atribut Rating no he aconseguit crear models predictius bons amb els altres camps per a models no-linears. \n",
    "Entenc que la baixissima correl·lació que té amb la resta d'atributs el fa molt difícil d'entrenar el model."
   ]
  },
  {
   "cell_type": "markdown",
   "id": "5ed803a4",
   "metadata": {},
   "source": [
    "Vista la situació en que estava. Vaig optar per canviar la meva variable objectiu Rating i centrar-me amb una variable categòrica per implementar models classificadors.\n",
    "\n",
    "Vaig escollir el atribut de Gènere, d'aquesta manera intentaré predir si seràn homes o dones qui realitzaràn les compres."
   ]
  },
  {
   "cell_type": "code",
   "execution_count": null,
   "id": "c4b80c76",
   "metadata": {},
   "outputs": [],
   "source": [
    "# Gender predict"
   ]
  },
  {
   "cell_type": "markdown",
   "id": "aa284a73",
   "metadata": {},
   "source": [
    "Com utilitzo el mateix dataset anterior no realitzo ningún canvi a les meves dades i utilitzo el mateix anterior. No ha rebut cap canvi ja que no actuo directament al dataset. Per comprovar-ho imprimeixo .head a continuació per assegurar-me."
   ]
  },
  {
   "cell_type": "code",
   "execution_count": 111,
   "id": "528180ac",
   "metadata": {},
   "outputs": [],
   "source": [
    "from sklearn.model_selection import train_test_split\n",
    "from sklearn.metrics import f1_score, precision_recall_curve, average_precision_score, roc_curve, auc, recall_score, precision_score, accuracy_score\n",
    "from sklearn.neighbors import KNeighborsClassifier\n",
    "from sklearn.linear_model import LogisticRegression\n",
    "from sklearn.ensemble import RandomForestClassifier\n",
    "from sklearn.svm import SVC\n",
    "from sklearn.preprocessing import StandardScaler\n",
    "from sklearn.preprocessing import Normalizer"
   ]
  },
  {
   "cell_type": "code",
   "execution_count": 179,
   "id": "8f0349c9",
   "metadata": {},
   "outputs": [],
   "source": [
    "features = ['Customer type','City', 'Payment', 'Day', 'Month', 'Unit price','Rating'] #\n",
    "X = data.loc[:, features].values\n",
    "y = data.loc[:, 'Gender'].values"
   ]
  },
  {
   "cell_type": "code",
   "execution_count": 134,
   "id": "fb7535d0",
   "metadata": {},
   "outputs": [
    {
     "data": {
      "text/html": [
       "<div>\n",
       "<style scoped>\n",
       "    .dataframe tbody tr th:only-of-type {\n",
       "        vertical-align: middle;\n",
       "    }\n",
       "\n",
       "    .dataframe tbody tr th {\n",
       "        vertical-align: top;\n",
       "    }\n",
       "\n",
       "    .dataframe thead th {\n",
       "        text-align: right;\n",
       "    }\n",
       "</style>\n",
       "<table border=\"1\" class=\"dataframe\">\n",
       "  <thead>\n",
       "    <tr style=\"text-align: right;\">\n",
       "      <th></th>\n",
       "      <th>Branch</th>\n",
       "      <th>City</th>\n",
       "      <th>Customer type</th>\n",
       "      <th>Gender</th>\n",
       "      <th>Unit price</th>\n",
       "      <th>Quantity</th>\n",
       "      <th>Tax 5%</th>\n",
       "      <th>Total</th>\n",
       "      <th>Payment</th>\n",
       "      <th>cogs</th>\n",
       "      <th>...</th>\n",
       "      <th>Rating</th>\n",
       "      <th>Year</th>\n",
       "      <th>Month</th>\n",
       "      <th>Day</th>\n",
       "      <th>Electronic accessories</th>\n",
       "      <th>Fashion accessories</th>\n",
       "      <th>Food and beverages</th>\n",
       "      <th>Health and beauty</th>\n",
       "      <th>Home and lifestyle</th>\n",
       "      <th>Sports and travel</th>\n",
       "    </tr>\n",
       "  </thead>\n",
       "  <tbody>\n",
       "    <tr>\n",
       "      <th>0</th>\n",
       "      <td>0</td>\n",
       "      <td>2</td>\n",
       "      <td>0</td>\n",
       "      <td>0</td>\n",
       "      <td>74.69</td>\n",
       "      <td>7</td>\n",
       "      <td>26.1415</td>\n",
       "      <td>548.9715</td>\n",
       "      <td>2</td>\n",
       "      <td>522.83</td>\n",
       "      <td>...</td>\n",
       "      <td>9.1</td>\n",
       "      <td>2019</td>\n",
       "      <td>1</td>\n",
       "      <td>5</td>\n",
       "      <td>0</td>\n",
       "      <td>0</td>\n",
       "      <td>0</td>\n",
       "      <td>1</td>\n",
       "      <td>0</td>\n",
       "      <td>0</td>\n",
       "    </tr>\n",
       "    <tr>\n",
       "      <th>1</th>\n",
       "      <td>2</td>\n",
       "      <td>1</td>\n",
       "      <td>1</td>\n",
       "      <td>0</td>\n",
       "      <td>15.28</td>\n",
       "      <td>5</td>\n",
       "      <td>3.8200</td>\n",
       "      <td>80.2200</td>\n",
       "      <td>0</td>\n",
       "      <td>76.40</td>\n",
       "      <td>...</td>\n",
       "      <td>9.6</td>\n",
       "      <td>2019</td>\n",
       "      <td>3</td>\n",
       "      <td>8</td>\n",
       "      <td>1</td>\n",
       "      <td>0</td>\n",
       "      <td>0</td>\n",
       "      <td>0</td>\n",
       "      <td>0</td>\n",
       "      <td>0</td>\n",
       "    </tr>\n",
       "    <tr>\n",
       "      <th>2</th>\n",
       "      <td>0</td>\n",
       "      <td>2</td>\n",
       "      <td>1</td>\n",
       "      <td>1</td>\n",
       "      <td>46.33</td>\n",
       "      <td>7</td>\n",
       "      <td>16.2155</td>\n",
       "      <td>340.5255</td>\n",
       "      <td>1</td>\n",
       "      <td>324.31</td>\n",
       "      <td>...</td>\n",
       "      <td>7.4</td>\n",
       "      <td>2019</td>\n",
       "      <td>3</td>\n",
       "      <td>3</td>\n",
       "      <td>0</td>\n",
       "      <td>0</td>\n",
       "      <td>0</td>\n",
       "      <td>0</td>\n",
       "      <td>1</td>\n",
       "      <td>0</td>\n",
       "    </tr>\n",
       "    <tr>\n",
       "      <th>3</th>\n",
       "      <td>0</td>\n",
       "      <td>2</td>\n",
       "      <td>0</td>\n",
       "      <td>1</td>\n",
       "      <td>58.22</td>\n",
       "      <td>8</td>\n",
       "      <td>23.2880</td>\n",
       "      <td>489.0480</td>\n",
       "      <td>2</td>\n",
       "      <td>465.76</td>\n",
       "      <td>...</td>\n",
       "      <td>8.4</td>\n",
       "      <td>2019</td>\n",
       "      <td>1</td>\n",
       "      <td>27</td>\n",
       "      <td>0</td>\n",
       "      <td>0</td>\n",
       "      <td>0</td>\n",
       "      <td>1</td>\n",
       "      <td>0</td>\n",
       "      <td>0</td>\n",
       "    </tr>\n",
       "    <tr>\n",
       "      <th>4</th>\n",
       "      <td>0</td>\n",
       "      <td>2</td>\n",
       "      <td>1</td>\n",
       "      <td>1</td>\n",
       "      <td>86.31</td>\n",
       "      <td>7</td>\n",
       "      <td>30.2085</td>\n",
       "      <td>634.3785</td>\n",
       "      <td>2</td>\n",
       "      <td>604.17</td>\n",
       "      <td>...</td>\n",
       "      <td>5.3</td>\n",
       "      <td>2019</td>\n",
       "      <td>2</td>\n",
       "      <td>8</td>\n",
       "      <td>0</td>\n",
       "      <td>0</td>\n",
       "      <td>0</td>\n",
       "      <td>0</td>\n",
       "      <td>0</td>\n",
       "      <td>1</td>\n",
       "    </tr>\n",
       "  </tbody>\n",
       "</table>\n",
       "<p>5 rows × 21 columns</p>\n",
       "</div>"
      ],
      "text/plain": [
       "   Branch  City  Customer type  Gender  Unit price  Quantity   Tax 5%  \\\n",
       "0       0     2              0       0       74.69         7  26.1415   \n",
       "1       2     1              1       0       15.28         5   3.8200   \n",
       "2       0     2              1       1       46.33         7  16.2155   \n",
       "3       0     2              0       1       58.22         8  23.2880   \n",
       "4       0     2              1       1       86.31         7  30.2085   \n",
       "\n",
       "      Total  Payment    cogs  ...  Rating  Year  Month  Day  \\\n",
       "0  548.9715        2  522.83  ...     9.1  2019      1    5   \n",
       "1   80.2200        0   76.40  ...     9.6  2019      3    8   \n",
       "2  340.5255        1  324.31  ...     7.4  2019      3    3   \n",
       "3  489.0480        2  465.76  ...     8.4  2019      1   27   \n",
       "4  634.3785        2  604.17  ...     5.3  2019      2    8   \n",
       "\n",
       "   Electronic accessories  Fashion accessories  Food and beverages  \\\n",
       "0                       0                    0                   0   \n",
       "1                       1                    0                   0   \n",
       "2                       0                    0                   0   \n",
       "3                       0                    0                   0   \n",
       "4                       0                    0                   0   \n",
       "\n",
       "   Health and beauty  Home and lifestyle  Sports and travel  \n",
       "0                  1                   0                  0  \n",
       "1                  0                   0                  0  \n",
       "2                  0                   1                  0  \n",
       "3                  1                   0                  0  \n",
       "4                  0                   0                  1  \n",
       "\n",
       "[5 rows x 21 columns]"
      ]
     },
     "execution_count": 134,
     "metadata": {},
     "output_type": "execute_result"
    }
   ],
   "source": [
    "data.head()"
   ]
  },
  {
   "cell_type": "markdown",
   "id": "33cef722",
   "metadata": {},
   "source": [
    "Agafo com a features els camps que tenen una mínima correl·lació o crec que poden aportar millor predicció, ja que amb gènere també tots els camps és molt baixa."
   ]
  },
  {
   "cell_type": "markdown",
   "id": "67a92ed6",
   "metadata": {},
   "source": [
    "Creo una funció pel model logistic regression:"
   ]
  },
  {
   "cell_type": "code",
   "execution_count": 188,
   "id": "c927f545",
   "metadata": {},
   "outputs": [],
   "source": [
    "def LR(X_train, X_test, y_train, y_test):\n",
    "    model = LogisticRegression(fit_intercept=True, tol=0.001, penalty='l2')\n",
    "    model.fit(X_train, y_train)\n",
    "    y_pred = model.predict(X_test)\n",
    "    \n",
    "    print('Score: ', model.score(X_test, y_test))\n",
    "    print('Accuracy: ', round(accuracy_score(y_test, y_pred),3))\n",
    "    print(\"Recall: \", round(recall_score(y_test, y_pred, average='macro'),3))\n",
    "    print(\"Precision: \", round(precision_score(y_test, y_pred, average='macro'),3))\n",
    "    print('F1_score:', round(f1_score(y_test, y_pred, average='macro'),3))\n",
    "    return model"
   ]
  },
  {
   "cell_type": "markdown",
   "id": "065056bd",
   "metadata": {},
   "source": [
    "Creo una funció pel model support vector classifier:"
   ]
  },
  {
   "cell_type": "code",
   "execution_count": 189,
   "id": "af756626",
   "metadata": {},
   "outputs": [],
   "source": [
    "def svc(X_train, X_test, y_train, y_test):\n",
    "    model = SVC(probability=True, max_iter = 100000)\n",
    "    model.fit(X_train, y_train)\n",
    "    y_pred = model.predict(X_test)\n",
    "\n",
    "    print('Score: ', model.score(X_test, y_test))\n",
    "    print('Accuracy: ', round(accuracy_score(y_test, y_pred),3))\n",
    "    print(\"Recall: \", round(recall_score(y_test, y_pred, average='macro'),3))\n",
    "    print(\"Precision: \", round(precision_score(y_test, y_pred, average='macro'),3))\n",
    "    print('F1_score:', round(f1_score(y_test, y_pred, average='macro'),3))\n",
    "    return model"
   ]
  },
  {
   "cell_type": "markdown",
   "id": "4d599289",
   "metadata": {},
   "source": [
    " Creo una funció pel model KNN:"
   ]
  },
  {
   "cell_type": "code",
   "execution_count": 190,
   "id": "b23e9a1b",
   "metadata": {},
   "outputs": [],
   "source": [
    "def KNN(X_train, X_test, y_train, y_test):\n",
    "    model = KNeighborsClassifier()\n",
    "    model.fit(X_train, y_train)\n",
    "    y_pred = model.predict(X_test)\n",
    "\n",
    "    print('Score: ', model.score(X_test, y_test))\n",
    "    print('Accuracy: ', round(accuracy_score(y_test, y_pred),3))\n",
    "    print(\"Recall: \", round(recall_score(y_test, y_pred, average='macro'),3))\n",
    "    print(\"Precision: \", round(precision_score(y_test, y_pred, average='macro'),3))\n",
    "    print('F1_score:', round(f1_score(y_test, y_pred, average='macro'),3))\n",
    "    return model"
   ]
  },
  {
   "cell_type": "markdown",
   "id": "08788b3f",
   "metadata": {},
   "source": [
    "Creo una funció pel model random forest classification:"
   ]
  },
  {
   "cell_type": "code",
   "execution_count": 191,
   "id": "ffd29faa",
   "metadata": {},
   "outputs": [],
   "source": [
    "def RFC(X_train, X_test, y_train, y_test):\n",
    "    model = RandomForestClassifier()\n",
    "    model.fit(X_train, y_train)\n",
    "    y_pred = model.predict(X_test)\n",
    "\n",
    "    print('Score: ', model.score(X_test, y_test))\n",
    "    print('Accuracy: ', round(accuracy_score(y_test, y_pred),3))\n",
    "    print(\"Recall: \", round(recall_score(y_test, y_pred, average='macro'),3))\n",
    "    print(\"Precision: \", round(precision_score(y_test, y_pred, average='macro'),3))\n",
    "    print('F1_score:', round(f1_score(y_test, y_pred, average='macro'),3))\n",
    "    return model"
   ]
  },
  {
   "cell_type": "markdown",
   "id": "58314571",
   "metadata": {},
   "source": [
    "Creo una funció per provar amb xarxes neuronals:"
   ]
  },
  {
   "cell_type": "code",
   "execution_count": 192,
   "id": "b5a2d8f7",
   "metadata": {},
   "outputs": [],
   "source": [
    "def perceptron(X_train, X_test, y_train, y_test): #rgre\n",
    "    clf = Perceptron(penalty='l2') # , max_iter=10000\n",
    "    clf.fit(X_train, y_train)\n",
    "    print (\"classification Score Perceptron: \", clf.score(X_test, y_test))\n",
    "    return model"
   ]
  },
  {
   "cell_type": "markdown",
   "id": "449be202",
   "metadata": {},
   "source": [
    "Un cop tinc els models a punt falta entrenar-los amb les dades. A continuació crido els models i els analitzo de dos formes diferents:\n",
    " - Amb els valors normalitzats\n",
    " - Amb els valors estandaritzats"
   ]
  },
  {
   "cell_type": "markdown",
   "id": "a584f98a",
   "metadata": {},
   "source": [
    "Valor normalitzat X els valors obtinguts son els seguents:"
   ]
  },
  {
   "cell_type": "code",
   "execution_count": 193,
   "id": "75034720",
   "metadata": {},
   "outputs": [
    {
     "name": "stdout",
     "output_type": "stream",
     "text": [
      "Normalizer\n",
      "Model LogisticRegression\n",
      "Score:  0.5233333333333333\n",
      "Accuracy:  0.523\n",
      "Recall:  0.523\n",
      "Precision:  0.523\n",
      "F1_score: 0.523\n",
      "\n",
      "Model KNeighborsClassifier\n",
      "Score:  0.5266666666666666\n",
      "Accuracy:  0.527\n",
      "Recall:  0.527\n",
      "Precision:  0.527\n",
      "F1_score: 0.523\n",
      "\n",
      "Model SVC\n",
      "Score:  0.52\n",
      "Accuracy:  0.52\n",
      "Recall:  0.52\n",
      "Precision:  0.52\n",
      "F1_score: 0.52\n",
      "\n",
      "Model RandomForestClassifier\n",
      "Score:  0.53\n",
      "Accuracy:  0.53\n",
      "Recall:  0.53\n",
      "Precision:  0.53\n",
      "F1_score: 0.53\n",
      "\n",
      "Model Perceptron\n",
      "Score:  0.5233333333333333\n",
      "Accuracy:  0.523\n",
      "Recall:  0.523\n",
      "Precision:  0.523\n",
      "F1_score: 0.523\n"
     ]
    },
    {
     "data": {
      "text/plain": [
       "RandomForestClassifier()"
      ]
     },
     "execution_count": 193,
     "metadata": {},
     "output_type": "execute_result"
    }
   ],
   "source": [
    "print(\"Normalizer\")\n",
    "x_norm =  Normalizer().fit(X).transform(X)\n",
    "X_train, X_test, y_train, y_test = train_test_split(x_norm, y, train_size=0.7, random_state=40)\n",
    "\n",
    "print(\"Model LogisticRegression\")\n",
    "LR(X_train, X_test, y_train, y_test)\n",
    "print(\"\")\n",
    "print(\"Model KNeighborsClassifier\")\n",
    "svc(X_train, X_test, y_train, y_test)\n",
    "print(\"\")\n",
    "print(\"Model SVC\")\n",
    "KNN(X_train, X_test, y_train, y_test)\n",
    "print(\"\")\n",
    "print(\"Model RandomForestClassifier\")\n",
    "RFC(X_train, X_test, y_train, y_test)\n",
    "print(\"\")\n",
    "print(\"Model Perceptron\")\n",
    "RFC(X_train, X_test, y_train, y_test)"
   ]
  },
  {
   "cell_type": "markdown",
   "id": "db670716",
   "metadata": {},
   "source": [
    "Amb els resultats obtingut podem veure com tenen valors pròxims a 0.52. No és un resultat molt dolent però tampoc es bo del tot.\n",
    "Vol dir que encerta la mitat dels valors.\n",
    "A continuació provo amb els valors StandardScaler() a veure si obtinc millors resultats."
   ]
  },
  {
   "cell_type": "markdown",
   "id": "3cd84eba",
   "metadata": {},
   "source": [
    "StandardScaler"
   ]
  },
  {
   "cell_type": "code",
   "execution_count": 194,
   "id": "fa64626a",
   "metadata": {},
   "outputs": [
    {
     "name": "stdout",
     "output_type": "stream",
     "text": [
      "Standard\n",
      "Model LogisticRegression\n",
      "Score:  0.5133333333333333\n",
      "Accuracy:  0.513\n",
      "Recall:  0.513\n",
      "Precision:  0.513\n",
      "F1_score: 0.512\n",
      "\n",
      "Model KNeighborsClassifier\n",
      "Score:  0.46\n",
      "Accuracy:  0.46\n",
      "Recall:  0.46\n",
      "Precision:  0.46\n",
      "F1_score: 0.46\n",
      "\n",
      "Model SVC\n",
      "Score:  0.5333333333333333\n",
      "Accuracy:  0.533\n",
      "Recall:  0.533\n",
      "Precision:  0.534\n",
      "F1_score: 0.532\n",
      "\n",
      "Model RandomForestClassifier\n",
      "Score:  0.47\n",
      "Accuracy:  0.47\n",
      "Recall:  0.47\n",
      "Precision:  0.47\n",
      "F1_score: 0.47\n",
      "\n",
      "Model Perceptron\n",
      "Score:  0.4866666666666667\n",
      "Accuracy:  0.487\n",
      "Recall:  0.487\n",
      "Precision:  0.487\n",
      "F1_score: 0.487\n"
     ]
    },
    {
     "data": {
      "text/plain": [
       "RandomForestClassifier()"
      ]
     },
     "execution_count": 194,
     "metadata": {},
     "output_type": "execute_result"
    }
   ],
   "source": [
    "print(\"Standard\")\n",
    "x_std = StandardScaler().fit(X).transform(X)\n",
    "X_train, X_test, y_train, y_test = train_test_split(x_std, y, train_size=0.7, random_state=40)\n",
    "\n",
    "print(\"Model LogisticRegression\")\n",
    "LR(X_train, X_test, y_train, y_test)\n",
    "print(\"\")\n",
    "print(\"Model KNeighborsClassifier\")\n",
    "svc(X_train, X_test, y_train, y_test)\n",
    "print(\"\")\n",
    "print(\"Model SVC\")\n",
    "KNN(X_train, X_test, y_train, y_test)\n",
    "print(\"\")\n",
    "print(\"Model RandomForestClassifier\")\n",
    "RFC(X_train, X_test, y_train, y_test)\n",
    "print(\"\")\n",
    "print(\"Model Perceptron\")\n",
    "RFC(X_train, X_test, y_train, y_test)"
   ]
  },
  {
   "cell_type": "markdown",
   "id": "6576898a",
   "metadata": {},
   "source": [
    "Els resultats ens diuen que per alguns models millorà però per molts altres empitjora. \n",
    "Per exemple, els models RFC, Perceptron, KNN baixen del 0.5 i tampoc millorà el Logistic regression.\n",
    "En canvi l'únic model que millora és el SVC arribant a 0.53 però de forma molt baixa."
   ]
  },
  {
   "cell_type": "markdown",
   "id": "0db3dde7",
   "metadata": {},
   "source": [
    "A continuació treballo amb els hyperparàmetres per cadascun dels models per veure si millora el model.\n",
    "No dona temps."
   ]
  },
  {
   "cell_type": "code",
   "execution_count": 198,
   "id": "a7ccbc38",
   "metadata": {},
   "outputs": [],
   "source": [
    "#grid searchCV -> Hyperparameters\n",
    "from sklearn import svm\n",
    "from sklearn.model_selection import GridSearchCV\n",
    "from sklearn.metrics import classification_report\n",
    "def LR(X_train, X_test, y_train, y_test):\n",
    "    parameters = {\n",
    "            'n_estimators': [10, 100, 150, 200, 500],\n",
    "            'max_features': ['auto', 'sqrt', 'log2'],\n",
    "            'max_depth': [5, 6, 7, 8, 9, 10],\n",
    "            'criterion': ['gini', 'entropy']\n",
    "        }\n",
    "    model = LogisiticRegression()\n",
    "    clf = GridSearchCV(model, parameters)\n",
    "    clf.fit(X_train,y_train)\n",
    "    #best params \n",
    "    print(clf.best_params_)\n",
    "    y_preds = clf.best_estimator.predict(X_test)\n",
    "    print(\"prediction metrics: \\n{}\".format(classification_report(y_true=y_test, y_pred=y_preds)))\n",
    "    \n",
    "def SVC(X_train, X_test, y_train, y_test):\n",
    "    parameters = {'kernel':('linear', 'rbf', 'poly', 'sigmoid'), 'C':[1, 10, 100, 1000]}\n",
    "\n",
    "    model = SVC(probability=True, max_iter = 100000)\n",
    "    clf = GridSearchCV(model, parameters)\n",
    "    clf.fit(X_train,y_train)\n",
    "    #best params \n",
    "    print(clf.best_params_)\n",
    "    y_preds = clf.best_estimator.predict(X_test)\n",
    "    print(\"prediction metrics: \\n{}\".format(classification_report(y_true=y_test, y_pred=y_preds)))\n",
    "\n",
    "def KNN(X_train, X_test, y_train, y_test):\n",
    "    parameters = { [5, 7, 8, 9, 10, 20, 40],\n",
    "            'weights': ['uniform', 'distance'],\n",
    "            'p': [1, 2, 4]}\n",
    "    model = KNeighborsClassifier()\n",
    "    clf = GridSearchCV(model, parameters)\n",
    "    clf.fit(X_train,y_train)\n",
    "    #best params \n",
    "    print(clf.best_params_)\n",
    "    y_preds = clf.best_estimator.predict(X_test)\n",
    "    print(\"prediction metrics: \\n{}\".format(classification_report(y_true=y_test, y_pred=y_preds)))\n",
    "\n",
    "def RFC(X_train, X_test, y_train, y_test):\n",
    "    parameters =  {\n",
    "            'n_estimators': [10, 100, 150, 200, 500],\n",
    "            'max_features': ['auto', 'sqrt', 'log2'],\n",
    "            'max_depth': [5, 6, 7, 8, 9, 10],\n",
    "            'criterion': ['gini', 'entropy']\n",
    "        }\n",
    "    model = RandomForestClassifier()\n",
    "    clf = GridSearchCV(model, parameters)\n",
    "    clf.fit(X_train,y_train)\n",
    "    #best params \n",
    "    print(clf.best_params_)\n",
    "    y_preds = clf.best_estimator.predict(X_test)\n",
    "    print(\"prediction metrics: \\n{}\".format(classification_report(y_true=y_test, y_pred=y_preds)))\n",
    "    "
   ]
  },
  {
   "cell_type": "code",
   "execution_count": 200,
   "id": "df6143c3",
   "metadata": {},
   "outputs": [
    {
     "name": "stdout",
     "output_type": "stream",
     "text": [
      "{'C': 10, 'kernel': 'rbf'}\n"
     ]
    },
    {
     "ename": "AttributeError",
     "evalue": "'GridSearchCV' object has no attribute 'bestestimator'",
     "output_type": "error",
     "traceback": [
      "\u001b[1;31m---------------------------------------------------------------------------\u001b[0m",
      "\u001b[1;31mAttributeError\u001b[0m                            Traceback (most recent call last)",
      "\u001b[1;32m<ipython-input-200-bf29f0b3d25b>\u001b[0m in \u001b[0;36m<module>\u001b[1;34m\u001b[0m\n\u001b[0;32m      1\u001b[0m \u001b[0mX_train\u001b[0m\u001b[1;33m,\u001b[0m \u001b[0mX_test\u001b[0m\u001b[1;33m,\u001b[0m \u001b[0my_train\u001b[0m\u001b[1;33m,\u001b[0m \u001b[0my_test\u001b[0m \u001b[1;33m=\u001b[0m \u001b[0mtrain_test_split\u001b[0m\u001b[1;33m(\u001b[0m\u001b[0mx_std\u001b[0m\u001b[1;33m,\u001b[0m \u001b[0my\u001b[0m\u001b[1;33m,\u001b[0m \u001b[0mtrain_size\u001b[0m\u001b[1;33m=\u001b[0m\u001b[1;36m0.7\u001b[0m\u001b[1;33m,\u001b[0m \u001b[0mrandom_state\u001b[0m\u001b[1;33m=\u001b[0m\u001b[1;36m40\u001b[0m\u001b[1;33m)\u001b[0m\u001b[1;33m\u001b[0m\u001b[1;33m\u001b[0m\u001b[0m\n\u001b[1;32m----> 2\u001b[1;33m \u001b[0mSVC\u001b[0m\u001b[1;33m(\u001b[0m\u001b[0mX_train\u001b[0m\u001b[1;33m,\u001b[0m \u001b[0mX_test\u001b[0m\u001b[1;33m,\u001b[0m \u001b[0my_train\u001b[0m\u001b[1;33m,\u001b[0m \u001b[0my_test\u001b[0m\u001b[1;33m)\u001b[0m\u001b[1;33m\u001b[0m\u001b[1;33m\u001b[0m\u001b[0m\n\u001b[0m",
      "\u001b[1;32m<ipython-input-198-af779dfd6613>\u001b[0m in \u001b[0;36mSVC\u001b[1;34m(X_train, X_test, y_train, y_test)\u001b[0m\n\u001b[0;32m     10\u001b[0m     \u001b[1;31m#best params\u001b[0m\u001b[1;33m\u001b[0m\u001b[1;33m\u001b[0m\u001b[1;33m\u001b[0m\u001b[0m\n\u001b[0;32m     11\u001b[0m     \u001b[0mprint\u001b[0m\u001b[1;33m(\u001b[0m\u001b[0mclf\u001b[0m\u001b[1;33m.\u001b[0m\u001b[0mbest_params_\u001b[0m\u001b[1;33m)\u001b[0m\u001b[1;33m\u001b[0m\u001b[1;33m\u001b[0m\u001b[0m\n\u001b[1;32m---> 12\u001b[1;33m     \u001b[0my_preds\u001b[0m \u001b[1;33m=\u001b[0m \u001b[0mclf\u001b[0m\u001b[1;33m.\u001b[0m\u001b[0mbestestimator\u001b[0m\u001b[1;33m.\u001b[0m\u001b[0mpredict\u001b[0m\u001b[1;33m(\u001b[0m\u001b[0mX_test\u001b[0m\u001b[1;33m)\u001b[0m\u001b[1;33m\u001b[0m\u001b[1;33m\u001b[0m\u001b[0m\n\u001b[0m\u001b[0;32m     13\u001b[0m     \u001b[0mprint\u001b[0m\u001b[1;33m(\u001b[0m\u001b[1;34m\"prediction metrics: \\n{}\"\u001b[0m\u001b[1;33m.\u001b[0m\u001b[0mformat\u001b[0m\u001b[1;33m(\u001b[0m\u001b[0mclassification_report\u001b[0m\u001b[1;33m(\u001b[0m\u001b[0my_true\u001b[0m\u001b[1;33m=\u001b[0m\u001b[0my_test\u001b[0m\u001b[1;33m,\u001b[0m \u001b[0my_pred\u001b[0m\u001b[1;33m=\u001b[0m\u001b[0my_preds\u001b[0m\u001b[1;33m)\u001b[0m\u001b[1;33m)\u001b[0m\u001b[1;33m)\u001b[0m\u001b[1;33m\u001b[0m\u001b[1;33m\u001b[0m\u001b[0m\n",
      "\u001b[1;31mAttributeError\u001b[0m: 'GridSearchCV' object has no attribute 'bestestimator'"
     ]
    }
   ],
   "source": [
    "X_train, X_test, y_train, y_test = train_test_split(x_std, y, train_size=0.7, random_state=40)\n",
    "LR(X_train, X_test, y_train, y_test)\n",
    "SVC(X_train, X_test, y_train, y_test)\n",
    "KNN(X_train, X_test, y_train, y_test)\n",
    "RFC(X_train, X_test, y_train, y_test)\n"
   ]
  },
  {
   "cell_type": "markdown",
   "id": "652c846a",
   "metadata": {},
   "source": [
    "A continuació aplico la matriu de confusió per comparar els resultats."
   ]
  },
  {
   "cell_type": "code",
   "execution_count": null,
   "id": "5b401ab8",
   "metadata": {},
   "outputs": [],
   "source": [
    "# optional: get true negative (tn), false positive (fp)\n",
    "# false negative (fn) and true positive (tp) from confusion matrix\n",
    "M = confusion_matrix(y, y_pred)\n",
    "tn, fp, fn, tp = M.ravel() \n",
    "# plotting the confusion matrix\n",
    "plot_confusion_matrix(clf, X, y)\n",
    "plt.show()"
   ]
  },
  {
   "cell_type": "markdown",
   "id": "9c421638",
   "metadata": {},
   "source": [
    "A continuació, deixo la linear regression que vaig també entrenar per el atribut Rating però amb un valor molt dolent també."
   ]
  },
  {
   "cell_type": "code",
   "execution_count": 75,
   "id": "8031917c",
   "metadata": {},
   "outputs": [],
   "source": [
    "####################################LINEAR_REGRESSION#############################"
   ]
  },
  {
   "cell_type": "code",
   "execution_count": 93,
   "id": "a55a547b",
   "metadata": {},
   "outputs": [
    {
     "name": "stdout",
     "output_type": "stream",
     "text": [
      "(1000, 20)\n",
      "(1000,)\n"
     ]
    }
   ],
   "source": [
    "from sklearn.linear_model import LinearRegression\n",
    "\n",
    "x = data.drop(['Rating'], axis=1) \n",
    "y = data['Rating']\n",
    "print(x.shape)\n",
    "print(y.shape)"
   ]
  },
  {
   "cell_type": "code",
   "execution_count": 94,
   "id": "20e8c76b",
   "metadata": {},
   "outputs": [],
   "source": [
    "from sklearn.model_selection import train_test_split\n",
    "\n",
    "# Split the data into training and testing sets\n",
    "X_train, X_test, y_train, y_test = train_test_split(x, y, test_size = 0.25, random_state = 42)\n"
   ]
  },
  {
   "cell_type": "code",
   "execution_count": 95,
   "id": "d07219b2",
   "metadata": {},
   "outputs": [
    {
     "name": "stderr",
     "output_type": "stream",
     "text": [
      "<ipython-input-95-f1ddcbfa8ac7>:5: SettingWithCopyWarning: \n",
      "A value is trying to be set on a copy of a slice from a DataFrame.\n",
      "Try using .loc[row_indexer,col_indexer] = value instead\n",
      "\n",
      "See the caveats in the documentation: https://pandas.pydata.org/pandas-docs/stable/user_guide/indexing.html#returning-a-view-versus-a-copy\n",
      "  X_train[numeric]=sc.fit_transform(X_train[numeric])\n",
      "C:\\Users\\pauro\\anaconda3\\lib\\site-packages\\pandas\\core\\indexing.py:1738: SettingWithCopyWarning: \n",
      "A value is trying to be set on a copy of a slice from a DataFrame.\n",
      "Try using .loc[row_indexer,col_indexer] = value instead\n",
      "\n",
      "See the caveats in the documentation: https://pandas.pydata.org/pandas-docs/stable/user_guide/indexing.html#returning-a-view-versus-a-copy\n",
      "  self._setitem_single_column(loc, value[:, i].tolist(), pi)\n",
      "<ipython-input-95-f1ddcbfa8ac7>:6: SettingWithCopyWarning: \n",
      "A value is trying to be set on a copy of a slice from a DataFrame.\n",
      "Try using .loc[row_indexer,col_indexer] = value instead\n",
      "\n",
      "See the caveats in the documentation: https://pandas.pydata.org/pandas-docs/stable/user_guide/indexing.html#returning-a-view-versus-a-copy\n",
      "  X_test[numeric]=sc.transform(X_test[numeric])\n",
      "C:\\Users\\pauro\\anaconda3\\lib\\site-packages\\pandas\\core\\indexing.py:1738: SettingWithCopyWarning: \n",
      "A value is trying to be set on a copy of a slice from a DataFrame.\n",
      "Try using .loc[row_indexer,col_indexer] = value instead\n",
      "\n",
      "See the caveats in the documentation: https://pandas.pydata.org/pandas-docs/stable/user_guide/indexing.html#returning-a-view-versus-a-copy\n",
      "  self._setitem_single_column(loc, value[:, i].tolist(), pi)\n"
     ]
    }
   ],
   "source": [
    "#Scaling numeric features using sklearn StandardScalar\n",
    "numeric=['Total', 'cogs', 'gross income']\n",
    "from sklearn.preprocessing import StandardScaler\n",
    "sc=StandardScaler()\n",
    "X_train[numeric]=sc.fit_transform(X_train[numeric])\n",
    "X_test[numeric]=sc.transform(X_test[numeric])"
   ]
  },
  {
   "cell_type": "code",
   "execution_count": 106,
   "id": "cdae9a8f",
   "metadata": {},
   "outputs": [
    {
     "data": {
      "text/plain": [
       "-0.03266331173539694"
      ]
     },
     "execution_count": 106,
     "metadata": {},
     "output_type": "execute_result"
    }
   ],
   "source": [
    "regressor = LinearRegression()  \n",
    "regressor.fit(X_train, y_train) #standarize \n",
    "(regressor.score(X_test, y_test)) #(y_true - y_true.mean()) ** 2).sum()"
   ]
  },
  {
   "cell_type": "code",
   "execution_count": 97,
   "id": "bff3a560",
   "metadata": {},
   "outputs": [
    {
     "name": "stdout",
     "output_type": "stream",
     "text": [
      "Training set score: 0.02\n"
     ]
    }
   ],
   "source": [
    "print(\"Training set score: {:.2f}\".format(regressor.score(X_train, y_train)))"
   ]
  },
  {
   "cell_type": "code",
   "execution_count": 98,
   "id": "020b408e",
   "metadata": {},
   "outputs": [
    {
     "name": "stdout",
     "output_type": "stream",
     "text": [
      "intercept: 6.865660169012212\n"
     ]
    }
   ],
   "source": [
    "print(f\"intercept: {regressor.intercept_}\") #model predicts the response 5.63 when 𝑥 is zero. The value 𝑏₁ = 0.54 means that the predicted response rises by 0.54 when 𝑥 is increased by one."
   ]
  },
  {
   "cell_type": "code",
   "execution_count": 99,
   "id": "11f2524b",
   "metadata": {},
   "outputs": [
    {
     "name": "stdout",
     "output_type": "stream",
     "text": [
      "intercept: [-1.76774802e-02  1.10138377e-01 -7.89100115e-03 -5.56748484e-02\n",
      "  7.07328834e-03  7.57934973e-02 -2.92682996e-02 -2.55552121e-03\n",
      "  4.21459094e-02 -2.55552121e-03 -2.55552121e-03 -1.38777878e-17\n",
      " -1.53466813e-01 -2.13059348e-03 -3.40544986e-02  9.28217731e-02\n",
      "  1.23396507e-01  1.40514410e-01 -2.06899037e-01 -1.15779154e-01]\n"
     ]
    }
   ],
   "source": [
    "print(f\"intercept: {regressor.coef_}\")"
   ]
  },
  {
   "cell_type": "code",
   "execution_count": 101,
   "id": "5dac83ff",
   "metadata": {},
   "outputs": [],
   "source": [
    "y_pred = regressor.predict(x)"
   ]
  },
  {
   "cell_type": "code",
   "execution_count": 102,
   "id": "711103ba",
   "metadata": {},
   "outputs": [
    {
     "name": "stderr",
     "output_type": "stream",
     "text": [
      "<ipython-input-102-196d5471a4cc>:3: DeprecationWarning: `np.bool` is a deprecated alias for the builtin `bool`. To silence this warning, use `bool` by itself. Doing this will not modify any behavior and is safe. If you specifically wanted the numpy scalar type, use `np.bool_` here.\n",
      "Deprecated in NumPy 1.20; for more details and guidance: https://numpy.org/devdocs/release/1.20.0-notes.html#deprecations\n",
      "  sns.heatmap(corr, mask=np.zeros_like(corr, dtype=np.bool), cmap=sns.diverging_palette(220, 10, as_cmap=True), square=True)\n"
     ]
    },
    {
     "data": {
      "text/plain": [
       "<AxesSubplot:>"
      ]
     },
     "execution_count": 102,
     "metadata": {},
     "output_type": "execute_result"
    },
    {
     "data": {
      "image/png": "[encoded data removed]",
      "text/plain": [
       "<Figure size 432x288 with 2 Axes>"
      ]
     },
     "metadata": {},
     "output_type": "display_data"
    }
   ],
   "source": [
    "import seaborn as sns\n",
    "corr = X_train.corr()\n",
    "sns.heatmap(corr, mask=np.zeros_like(corr, dtype=np.bool), cmap=sns.diverging_palette(220, 10, as_cmap=True), square=True)"
   ]
  }
 ],
 "metadata": {
  "kernelspec": {
   "display_name": "Python 3",
   "language": "python",
   "name": "python3"
  },
  "language_info": {
   "codemirror_mode": {
    "name": "ipython",
    "version": 3
   },
   "file_extension": ".py",
   "mimetype": "text/x-python",
   "name": "python",
   "nbconvert_exporter": "python",
   "pygments_lexer": "ipython3",
   "version": "3.8.8"
  }
 },
 "nbformat": 4,
 "nbformat_minor": 5
}
